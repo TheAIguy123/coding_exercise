{
 "cells": [
  {
   "cell_type": "code",
   "execution_count": 1,
   "metadata": {},
   "outputs": [],
   "source": [
    "from __future__ import print_function "
   ]
  },
  {
   "cell_type": "markdown",
   "metadata": {},
   "source": [
    "# Singly linked list"
   ]
  },
  {
   "cell_type": "markdown",
   "metadata": {},
   "source": [
    "## Define Node class"
   ]
  },
  {
   "cell_type": "code",
   "execution_count": 2,
   "metadata": {},
   "outputs": [],
   "source": [
    "class Node(object):\n",
    "    def __init__(self, val = None):\n",
    "        self.val = val \n",
    "        self.next = None "
   ]
  },
  {
   "cell_type": "markdown",
   "metadata": {},
   "source": [
    "## Build a linked list from a list and print a linked list"
   ]
  },
  {
   "cell_type": "code",
   "execution_count": 3,
<<<<<<< HEAD
   "metadata": {
    "collapsed": true
   },
=======
   "metadata": {},
>>>>>>> master
   "outputs": [],
   "source": [
    "# build from list \n",
    "\n",
    "def build_linked_list(vals):\n",
    "    if not vals: return None \n",
    "    head = curr = Node(vals[0])\n",
    "    if len(vals) > 1: \n",
    "        for val in vals[1:]:\n",
    "            curr.next = Node(val) \n",
    "            curr = curr.next \n",
    "    return head \n",
    "\n",
    "def llist2str(head):\n",
    "    if not head: return 'empty linked list'\n",
    "    res = ''\n",
    "    curr = head \n",
    "    while curr: \n",
    "        res += str(curr.val) \n",
    "        if curr.next: \n",
    "            res += '->'\n",
    "        curr = curr.next\n",
    "    return res \n",
    "    "
   ]
  },
  {
   "cell_type": "code",
   "execution_count": 4,
   "metadata": {},
   "outputs": [
    {
     "name": "stdout",
     "output_type": "stream",
     "text": [
      "1->2->3->4\n"
     ]
    }
   ],
   "source": [
    "h1 = build_linked_list([1, 2, 3, 4])\n",
    "print(llist2str(h1))"
   ]
  },
  {
   "cell_type": "markdown",
   "metadata": {},
   "source": [
    "## Remove the nth node from the end\n",
    "[Leetcode source](https://leetcode.com/problems/remove-nth-node-from-end-of-list/description/)\n",
    "\n",
    "Given a linked list, remove the nth node from the end of list and return its head.\n",
    "\n",
    "For example,\n",
    "```\n",
    "Given linked list: 1->2->3->4->5, and n = 2.\n",
    "\n",
    "After removing the second node from the end, the linked list becomes \n",
    "1->2->3->5.\n",
    "```\n",
    "Note:\n",
    "Given n will always be valid.\n",
    "Try to do this in one pass.\n",
    "\n"
   ]
  },
  {
   "cell_type": "code",
   "execution_count": 5,
   "metadata": {},
   "outputs": [],
   "source": [
    "def remove_nth_node(head, n):\n",
    "    fast = slow = head \n",
    "    for _ in range(n):\n",
    "        fast = fast.next \n",
    "    # if n == len of linked list, then remove the head \n",
    "    if not fast: return head.next \n",
    "    while fast.next: \n",
    "        fast, slow = fast.next, slow.next \n",
    "    # remove \n",
    "    slow.next = slow.next.next \n",
    "    return head "
   ]
  },
  {
   "cell_type": "code",
   "execution_count": 6,
   "metadata": {},
   "outputs": [
    {
     "name": "stdout",
     "output_type": "stream",
     "text": [
      "1->2->4\n",
      "2\n",
      "empty linked list\n"
     ]
    }
   ],
   "source": [
    "h1 = build_linked_list([1, 2, 3, 4])\n",
    "print(llist2str(remove_nth_node(h1, 2)))\n",
    "\n",
    "h2 = build_linked_list([1, 2])\n",
    "print(llist2str(remove_nth_node(h2, 2)))\n",
    "\n",
    "h3 = build_linked_list([1])\n",
    "print(llist2str(remove_nth_node(h3, 1)))"
   ]
  },
  {
   "cell_type": "markdown",
   "metadata": {},
   "source": [
    "## Reverse a linked list\n",
    "[Leetcode source](https://leetcode.com/problems/reverse-linked-list/description/)"
   ]
  },
  {
   "cell_type": "code",
   "execution_count": 7,
   "metadata": {},
   "outputs": [
    {
     "name": "stdout",
     "output_type": "stream",
     "text": [
      "Iterative solution:\n",
      "Reverse of empty linked list is: empty linked list\n",
      "Reverse of 1 is: 1\n",
      "Reverse of 1->2 is: 2->1\n",
      "Reverse of 1->2->3 is: 3->2->1\n",
      "\n",
      "Recursive solution:\n",
      "Reverse of empty linked list is: empty linked list\n",
      "Reverse of 1 is: 1\n",
      "Reverse of 1->2 is: 2->1\n",
      "Reverse of 1->2->3 is: 3->2->1\n"
     ]
    }
   ],
   "source": [
    "# iterative solution \n",
    "# linked list = node0 -> node1 -> node2 \n",
    "#               head \n",
    "#  prev.next <- prev  \n",
    "def reverse_linked_list(head):\n",
    "    prev = None    \n",
    "    while head: \n",
    "        head, prev, prev.next = head.next, head, prev \n",
    "    return prev \n",
    "\n",
    "# recursive solution \n",
    "def _reverse(node, prev = None):\n",
    "    # suppose that prev is already reversed \n",
    "    if not node: return prev \n",
    "    n = node.next \n",
    "    node.next = prev \n",
    "    return _reverse(n, node)    \n",
    "    \n",
    "def reverse_linked_list2(head):\n",
    "    return _reverse(head, None) \n",
    "\n",
    "h1 = build_linked_list([])\n",
    "h2 = build_linked_list([1])\n",
    "h3 = build_linked_list([1, 2])\n",
    "h4 = build_linked_list([1, 2, 3])\n",
    "\n",
    "print('Iterative solution:')\n",
    "print('Reverse of '+llist2str(h1) + ' is: ' + llist2str(reverse_linked_list(h1)))\n",
    "print('Reverse of '+llist2str(h2) + ' is: ' + llist2str(reverse_linked_list(h2)))\n",
    "print('Reverse of '+llist2str(h3) + ' is: ' + llist2str(reverse_linked_list(h3)))\n",
    "print('Reverse of '+llist2str(h4) + ' is: ' + llist2str(reverse_linked_list(h4)))\n",
    "\n",
    "h1 = build_linked_list([])\n",
    "h2 = build_linked_list([1])\n",
    "h3 = build_linked_list([1, 2])\n",
    "h4 = build_linked_list([1, 2, 3])\n",
    "print('\\nRecursive solution:')\n",
    "print('Reverse of '+llist2str(h1) + ' is: ' + llist2str(reverse_linked_list2(h1)))\n",
    "print('Reverse of '+llist2str(h2) + ' is: ' + llist2str(reverse_linked_list2(h2)))\n",
    "print('Reverse of '+llist2str(h3) + ' is: ' + llist2str(reverse_linked_list2(h3)))\n",
    "print('Reverse of '+llist2str(h4) + ' is: ' + llist2str(reverse_linked_list2(h4)))"
   ]
  },
  {
   "cell_type": "markdown",
   "metadata": {},
   "source": [
    "## Palindrome \n",
    "[Leetcode source](https://leetcode.com/problems/palindrome-linked-list/description/)\n",
    "\n",
    "Given a singly linked list, determine if it is a palindrome.\n",
    "\n",
    "Follow up:\n",
    "Could you do it in O(n) time and O(1) space?"
   ]
  },
  {
   "cell_type": "code",
   "execution_count": 23,
   "metadata": {},
   "outputs": [
    {
     "name": "stdout",
     "output_type": "stream",
     "text": [
      "is empty linked list palindrom? True\n",
      "1 1\n",
      "is 1 palindrom? True\n",
      "is 1->1 palindrom? True\n",
      "1 2\n",
      "is 1->2->1 palindrom? True\n",
      "is 1->2->2->1 palindrom? True\n",
      "1 3\n",
      "is 1->2->3->2->1 palindrom? True\n"
     ]
    }
   ],
   "source": [
    "# using 3 pointers \n",
    "def isPanlindrome(head):\n",
    "    fast = slow = head \n",
    "    prev = None \n",
    "    while fast and fast.next: \n",
    "        slow, fast, prev, prev.next = slow.next, fast.next.next, slow, prev \n",
    "    \n",
    "    if fast: # odd elems\n",
    "        print(fast.val, slow.val)\n",
    "        slow = slow.next\n",
    "    \n",
    "    while slow: \n",
    "        if slow.val != prev.val: return False \n",
    "        slow, prev = slow.next, prev.next \n",
    "    return True \n",
    "\n",
    "h1 = build_linked_list([])\n",
    "h2 = build_linked_list([1])\n",
    "h3 = build_linked_list([1, 1])\n",
    "h4 = build_linked_list([1, 2, 1])\n",
    "h5 = build_linked_list([1, 2, 2, 1])\n",
    "h6 = build_linked_list([1, 2, 3, 2, 1])\n",
    "# print(llist2str(h6))\n",
    "for head in [h1, h2, h3, h4, h5, h6]:\n",
    "    print('is ' + llist2str(head) + ' palindrom? ' + str(isPanlindrome(head)))"
   ]
  },
  {
   "cell_type": "markdown",
   "metadata": {},
   "source": [
    "## Merge two sorted linked lists\n",
    "\n",
    "[Leetcode source](https://leetcode.com/problems/merge-two-sorted-lists/description/)\n",
    "\n",
    "Merge two sorted linked lists and return it as a new list. The new list should be made by splicing together the nodes of the first two lists.\n",
    "\n",
    "Example:\n",
    "```\n",
    "Input: 1->2->4, 1->3->4\n",
    "Output: 1->1->2->3->4->4\n",
    "```"
   ]
  },
  {
   "cell_type": "code",
   "execution_count": 24,
   "metadata": {},
   "outputs": [
    {
     "name": "stdout",
     "output_type": "stream",
     "text": [
      "merge(1->2->4 , 1->3->4) =  1->1->2->3->4->4\n",
      "merge(1->2->4 , empty linked list) =  1->2->4\n",
      "merge(empty linked list , empty linked list) =  empty linked list\n",
      "merge(1->2 , 3->4) =  1->2->3->4\n",
      "merge(1->3 , 2->4) =  1->2->3->4\n"
     ]
    }
   ],
   "source": [
    "def merge_list(head1, head2):\n",
    "    if not head1: return head2 \n",
    "    if not head2: return head1 \n",
    "    head = dum = Node(0)\n",
    "    while head1 and head2: \n",
    "        if head1.val < head2.val:\n",
    "            head.next = Node(head1.val)\n",
    "            head, head1 = head.next, head1.next \n",
    "        else: \n",
    "            head.next = Node(head2.val) \n",
    "            head, head2 = head.next, head2.next \n",
    "    head.next = head1 if head1 else head2 \n",
    "    return dum.next \n",
    "        \n",
    "############## Test ##############\n",
    "h1 = build_linked_list([1, 2, 4])\n",
    "h2 = build_linked_list([1, 3, 4])\n",
    "print('merge(' + llist2str(h1), ', ' + llist2str(h2) + ') = ', \n",
    "      llist2str(merge_list(h1, h2)))\n",
    "\n",
    "##\n",
    "h1 = build_linked_list([1, 2, 4])\n",
    "h2 = build_linked_list([])\n",
    "print('merge(' + llist2str(h1), ', ' + llist2str(h2) + ') = ', \n",
    "      llist2str(merge_list(h1, h2)))\n",
    "\n",
    "##\n",
    "h1 = build_linked_list([])\n",
    "h2 = build_linked_list([])\n",
    "print('merge(' + llist2str(h1), ', ' + llist2str(h2) + ') = ', \n",
    "      llist2str(merge_list(h1, h2)))\n",
    "\n",
    "##\n",
    "h1 = build_linked_list([1, 2])\n",
    "h2 = build_linked_list([3, 4])\n",
    "print('merge(' + llist2str(h1), ', ' + llist2str(h2) + ') = ', \n",
    "      llist2str(merge_list(h1, h2)))\n",
    "\n",
    "##\n",
    "h1 = build_linked_list([1, 3])\n",
    "h2 = build_linked_list([2, 4])\n",
    "print('merge(' + llist2str(h1), ', ' + llist2str(h2) + ') = ', \n",
    "      llist2str(merge_list(h1, h2)))\n"
   ]
  },
  {
   "cell_type": "markdown",
   "metadata": {},
   "source": [
    "## Rotate a list\n",
    "\n",
    "[Leetcode](https://leetcode.com/problems/rotate-list/description/)\n",
    "\n",
    "Given a list, rotate the list to the right by k places, where k is non-negative.\n",
    "\n",
    "\n",
    "Example:\n",
    "```\n",
    "Given 1->2->3->4->5->NULL and k = 2,\n",
    "return 4->5->1->2->3->NULL.\n",
    "```\n",
    "Suppose that k <= number of elems "
   ]
  },
  {
   "cell_type": "code",
   "execution_count": 27,
   "metadata": {},
   "outputs": [
    {
     "name": "stdout",
     "output_type": "stream",
     "text": [
      "Rotate to the right of 1->2->3->4->5 by 2 places is:  4->5->1->2->3\n",
      "Rotate to the right of 1->2 by 2 places is:  1->2\n"
     ]
    }
   ],
   "source": [
    "def rotate_list(head, k):\n",
    "    fast = slow = head \n",
    "    for _ in range(k):\n",
    "        fast = fast.next \n",
    "    if not fast: return head \n",
    "    while fast.next: \n",
    "        fast, slow = fast.next, slow.next \n",
    "    tmp, slow.next = slow.next, None \n",
    "    fast.next = head \n",
    "    return tmp \n",
    "##### Test #####\n",
    "h1 = build_linked_list([1, 2, 3, 4, 5])\n",
    "k = 2 \n",
    "print('Rotate to the right of '+llist2str(h1) + ' by ' + str(k) + ' places is: ', \n",
    "     llist2str(rotate_list(h1, k)))\n",
    "\n",
    "h1 = build_linked_list([1, 2])\n",
    "k = 2 \n",
    "print('Rotate to the right of '+llist2str(h1) + ' by ' + str(k) + ' places is: ', \n",
    "     llist2str(rotate_list(h1, k)))"
   ]
  },
  {
   "cell_type": "markdown",
   "metadata": {},
   "source": [
    "## Cycle \n",
    "[Leetcode source](https://leetcode.com/problems/linked-list-cycle/description/)\n",
    "\n",
    "Given a linked list, determine if it has a cycle in it.\n",
    "\n",
    "Follow up:\n",
    "Can you solve it without using extra space?\n",
    "\n",
    "**Idea:** \n"
   ]
  },
  {
   "cell_type": "code",
   "execution_count": 28,
   "metadata": {},
   "outputs": [],
   "source": [
    "def cycle_list(head):\n",
    "    fast = slow = head \n",
    "    while fast and fast.next: \n",
    "        fast, slow = fast.next.next, slow.next \n",
    "        if fast == slow: return True \n",
    "    return False "
   ]
  },
  {
   "cell_type": "markdown",
   "metadata": {},
   "source": [
    "## Remove consecutive duplicate elems\n",
    "[Leetcode](https://leetcode.com/problems/remove-duplicates-from-sorted-list/description/)\n",
    "\n",
    "Given a sorted linked list, delete all duplicates such that each element appear only once.\n",
    "\n",
    "For example,\n",
    "```\n",
    "Given 1->1->2, return 1->2.\n",
    "Given 1->1->2->3->3, return 1->2->3.\n",
    "```\n"
   ]
  },
  {
   "cell_type": "code",
   "execution_count": 33,
   "metadata": {},
   "outputs": [
    {
     "name": "stdout",
     "output_type": "stream",
     "text": [
      "Before: 1->1 , after:  1\n",
      "Before: 1->1->2 , after:  1->2\n",
      "Before: 1->1->2->2->3->4->4 , after:  1->2->3->4\n",
      "Before: 1->2->3->4 , after:  1->2->3->4\n",
      "Before: empty linked list , after:  empty linked list\n"
     ]
    }
   ],
   "source": [
    "def remove_duplicate(head):\n",
    "    if not head or not head.next: return head \n",
    "    dumm = curr = head \n",
    "    while curr and curr.next: \n",
    "        if curr.val == curr.next.val: \n",
    "            curr.next = curr.next.next\n",
    "        curr = curr.next \n",
    "        \n",
    "    return dumm     \n",
    "    \n",
    "    \n",
    "############\n",
    "h1 = build_linked_list([1, 1])\n",
    "h2 = build_linked_list([1, 1, 2])\n",
    "h3 = build_linked_list([1, 1, 2, 2, 3, 4, 4])\n",
    "h4 = build_linked_list([1, 2, 3, 4])\n",
    "h5 = build_linked_list([])\n",
    "\n",
    "for head in [h1, h2, h3, h4, h5]:\n",
    "    print('Before: ' + llist2str(head), ', after: ', llist2str(remove_duplicate(head)))"
   ]
  },
  {
   "cell_type": "markdown",
   "metadata": {},
   "source": [
    "The previous solution only works with 2 duplicate values, how about more than two?"
   ]
  },
  {
   "cell_type": "code",
   "execution_count": 34,
   "metadata": {},
   "outputs": [
    {
     "name": "stdout",
     "output_type": "stream",
     "text": [
      "Before: 1->1->1 , after:  1->1\n"
     ]
    }
   ],
   "source": [
    "head = build_linked_list([1, 1, 1])\n",
    "print('Before: ' + llist2str(head), ', after: ', llist2str(remove_duplicate(head)))"
   ]
  },
  {
   "cell_type": "code",
   "execution_count": 41,
   "metadata": {},
   "outputs": [
    {
     "name": "stdout",
     "output_type": "stream",
     "text": [
      "Before: 1->1->1->2->2->2->3->3->3 , after:  1->2->3\n"
     ]
    }
   ],
   "source": [
    "def remove_duplicate2(head):\n",
    "    curr = head \n",
    "    while curr and curr.next: \n",
    "        if curr.val == curr.next.val: \n",
    "            curr.next = curr.next.next \n",
    "        else: \n",
    "            curr = curr.next \n",
    "    return head \n",
    "#     pass \n",
    "\n",
    "head = build_linked_list([1, 1, 1, 2, 2, 2, 3, 3, 3])\n",
    "print('Before: ' + llist2str(head), ', after: ', llist2str(remove_duplicate2(head)))"
   ]
  },
  {
   "cell_type": "markdown",
   "metadata": {},
   "source": [
    "## Partition list\n",
    "[Leetcode source](https://leetcode.com/problems/partition-list/description/)\n",
    "\n",
    "Given a linked list and a value x, partition it such that all nodes less than x come before nodes greater than or equal to x.\n",
    "\n",
    "You should preserve the original relative order of the nodes in each of the two partitions.\n",
    "\n",
    "For example,\n",
    "```\n",
    "Given 1->4->3->2->5->2 and x = 3,\n",
    "return 1->2->2->4->3->5.\n",
    "```\n",
    "\n"
   ]
  },
  {
   "cell_type": "markdown",
   "metadata": {
    "collapsed": true
   },
   "source": [
    "\n",
    "# More problems \n",
    "\n",
    "[Leetcode Linked list](https://leetcode.com/tag/linked-list/)"
   ]
  },
  {
   "cell_type": "code",
   "execution_count": null,
   "metadata": {},
   "outputs": [],
   "source": []
  }
 ],
 "metadata": {
  "kernelspec": {
   "display_name": "Python 2",
   "language": "python",
   "name": "python2"
  },
  "language_info": {
   "codemirror_mode": {
    "name": "ipython",
    "version": 2
   },
   "file_extension": ".py",
   "mimetype": "text/x-python",
   "name": "python",
   "nbconvert_exporter": "python",
   "pygments_lexer": "ipython2",
   "version": "2.7.12"
  },
  "latex_envs": {
   "LaTeX_envs_menu_present": true,
   "autoclose": false,
   "autocomplete": true,
   "bibliofile": "biblio.bib",
   "cite_by": "apalike",
   "current_citInitial": 1,
   "eqLabelWithNumbers": true,
   "eqNumInitial": 1,
   "hotkeys": {
    "equation": "Ctrl-E",
    "itemize": "Ctrl-I"
   },
   "labels_anchors": false,
   "latex_user_defs": false,
   "report_style_numbering": false,
   "user_envs_cfg": false
  },
  "toc": {
   "nav_menu": {},
   "number_sections": true,
   "sideBar": true,
   "skip_h1_title": false,
   "title_cell": "Table of Contents",
   "title_sidebar": "Contents",
   "toc_cell": false,
   "toc_position": {
    "height": "calc(100% - 180px)",
    "left": "10px",
    "top": "150px",
    "width": "383px"
   },
   "toc_section_display": true,
   "toc_window_display": true
  }
 },
 "nbformat": 4,
 "nbformat_minor": 2
}
