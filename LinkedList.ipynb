{
 "cells": [
  {
   "cell_type": "code",
   "execution_count": 1,
   "metadata": {
    "collapsed": true
   },
   "outputs": [],
   "source": [
    "from __future__ import print_function "
   ]
  },
  {
   "cell_type": "markdown",
   "metadata": {},
   "source": [
    "# Singly linked list"
   ]
  },
  {
   "cell_type": "markdown",
   "metadata": {},
   "source": [
    "## Define Node class"
   ]
  },
  {
   "cell_type": "code",
   "execution_count": 2,
   "metadata": {
    "collapsed": true
   },
   "outputs": [],
   "source": [
    "class Node(object):\n",
    "    def __init__(self, val = None):\n",
    "        self.val = val \n",
    "        self.next = None "
   ]
  },
  {
   "cell_type": "markdown",
   "metadata": {},
   "source": [
    "## Build a linked list from a list and print a linked list"
   ]
  },
  {
   "cell_type": "code",
   "execution_count": 12,
   "metadata": {
    "collapsed": true
   },
   "outputs": [],
   "source": [
    "# build from list \n",
    "\n",
    "def build_linked_list(vals):\n",
    "    if not vals: return None \n",
    "    head = curr = Node(vals[0])\n",
    "    if len(vals) > 1: \n",
    "        for val in vals[1:]:\n",
    "            curr.next = Node(val) \n",
    "            curr = curr.next \n",
    "    return head \n",
    "\n",
    "def llist2str(head):\n",
    "    if not head: return 'empty linked list'\n",
    "    res = ''\n",
    "    curr = head \n",
    "    while curr: \n",
    "        res += str(curr.val) \n",
    "        if curr.next: \n",
    "            res += '->'\n",
    "        curr = curr.next\n",
    "    return res \n",
    "    "
   ]
  },
  {
   "cell_type": "code",
   "execution_count": 13,
   "metadata": {},
   "outputs": [
    {
     "name": "stdout",
     "output_type": "stream",
     "text": [
      "1->2->3->4\n"
     ]
    }
   ],
   "source": [
    "h1 = build_linked_list([1, 2, 3, 4])\n",
    "print(llist2str(h1))"
   ]
  },
  {
   "cell_type": "markdown",
   "metadata": {},
   "source": [
    "## Remove the nth node from the end\n",
    "[Leetcode source](https://leetcode.com/problems/remove-nth-node-from-end-of-list/description/)\n",
    "\n",
    "Given a linked list, remove the nth node from the end of list and return its head.\n",
    "\n",
    "For example,\n",
    "```\n",
    "Given linked list: 1->2->3->4->5, and n = 2.\n",
    "\n",
    "After removing the second node from the end, the linked list becomes \n",
    "1->2->3->5.\n",
    "```\n",
    "Note:\n",
    "Given n will always be valid.\n",
    "Try to do this in one pass.\n",
    "\n"
   ]
  },
  {
   "cell_type": "code",
   "execution_count": 5,
   "metadata": {
    "collapsed": true
   },
   "outputs": [],
   "source": [
    "def remove_nth_node(head, n):\n",
    "    fast = slow = head \n",
    "    for _ in range(n):\n",
    "        fast = fast.next \n",
    "    # if n == len of linked list, then remove the head \n",
    "    if not fast: return head.next \n",
    "    while fast.next: \n",
    "        fast, slow = fast.next, slow.next \n",
    "    # remove \n",
    "    slow.next = slow.next.next \n",
    "    return head "
   ]
  },
  {
   "cell_type": "code",
   "execution_count": 14,
   "metadata": {},
   "outputs": [
    {
     "name": "stdout",
     "output_type": "stream",
     "text": [
      "1->2->4\n",
      "2\n",
      "empty linked list\n"
     ]
    }
   ],
   "source": [
    "h1 = build_linked_list([1, 2, 3, 4])\n",
    "print(llist2str(remove_nth_node(h1, 2)))\n",
    "\n",
    "h2 = build_linked_list([1, 2])\n",
    "print(llist2str(remove_nth_node(h2, 2)))\n",
    "\n",
    "h3 = build_linked_list([1])\n",
    "print(llist2str(remove_nth_node(h3, 1)))"
   ]
  },
  {
   "cell_type": "markdown",
   "metadata": {},
   "source": [
    "## Reverse a linked list\n",
    "[Leetcode source](https://leetcode.com/problems/reverse-linked-list/description/)"
   ]
  },
  {
   "cell_type": "code",
   "execution_count": 29,
   "metadata": {},
   "outputs": [
    {
     "name": "stdout",
     "output_type": "stream",
     "text": [
      "Iterative solution:\n",
      "Reverse of empty linked list is: empty linked list\n",
      "Reverse of 1 is: 1\n",
      "Reverse of 1->2 is: 2->1\n",
      "Reverse of 1->2->3 is: 3->2->1\n",
      "\n",
      "Recursive solution:\n",
      "Reverse of empty linked list is: empty linked list\n",
      "Reverse of 1 is: 1\n",
      "Reverse of 1->2 is: 2->1\n",
      "Reverse of 1->2->3 is: 3->2->1\n"
     ]
    }
   ],
   "source": [
    "# iterative solution \n",
    "# linked list = node0 -> node1 -> node2 \n",
    "#               head \n",
    "#  prev.next <- prev  \n",
    "def reverse_linked_list(head):\n",
    "    prev = None    \n",
    "    while head: \n",
    "        head, prev, prev.next = head.next, head, prev \n",
    "    return prev \n",
    "\n",
    "# recursive solution \n",
    "def _reverse(node, prev = None):\n",
    "    # suppose that prev is already reversed \n",
    "    if not node: return prev \n",
    "    n = node.next \n",
    "    node.next = prev \n",
    "    return _reverse(n, node)\n",
    "    \n",
    "    \n",
    "def reverse_linked_list2(head):\n",
    "    return _reverse(head, None) \n",
    "\n",
    "h1 = build_linked_list([])\n",
    "h2 = build_linked_list([1])\n",
    "h3 = build_linked_list([1, 2])\n",
    "h4 = build_linked_list([1, 2, 3])\n",
    "\n",
    "print('Iterative solution:')\n",
    "print('Reverse of '+llist2str(h1) + ' is: ' + llist2str(reverse_linked_list(h1)))\n",
    "print('Reverse of '+llist2str(h2) + ' is: ' + llist2str(reverse_linked_list(h2)))\n",
    "print('Reverse of '+llist2str(h3) + ' is: ' + llist2str(reverse_linked_list(h3)))\n",
    "print('Reverse of '+llist2str(h4) + ' is: ' + llist2str(reverse_linked_list(h4)))\n",
    "\n",
    "h1 = build_linked_list([])\n",
    "h2 = build_linked_list([1])\n",
    "h3 = build_linked_list([1, 2])\n",
    "h4 = build_linked_list([1, 2, 3])\n",
    "print('\\nRecursive solution:')\n",
    "print('Reverse of '+llist2str(h1) + ' is: ' + llist2str(reverse_linked_list2(h1)))\n",
    "print('Reverse of '+llist2str(h2) + ' is: ' + llist2str(reverse_linked_list2(h2)))\n",
    "print('Reverse of '+llist2str(h3) + ' is: ' + llist2str(reverse_linked_list2(h3)))\n",
    "print('Reverse of '+llist2str(h4) + ' is: ' + llist2str(reverse_linked_list2(h4)))"
   ]
  },
  {
   "cell_type": "markdown",
   "metadata": {},
   "source": [
    "## Palindrome \n",
    "[Leetcode source](https://leetcode.com/problems/palindrome-linked-list/description/)\n",
    "\n",
    "Given a singly linked list, determine if it is a palindrome.\n",
    "\n",
    "Follow up:\n",
    "Could you do it in O(n) time and O(1) space?"
   ]
  },
  {
   "cell_type": "markdown",
   "metadata": {},
   "source": [
    "## Merge two sorted linked lists\n",
    "\n",
    "[Leetcode source](https://leetcode.com/problems/merge-two-sorted-lists/description/)\n",
    "\n",
    "Merge two sorted linked lists and return it as a new list. The new list should be made by splicing together the nodes of the first two lists.\n",
    "\n",
    "Example:\n",
    "```\n",
    "Input: 1->2->4, 1->3->4\n",
    "Output: 1->1->2->3->4->4\n",
    "```"
   ]
  },
  {
   "cell_type": "markdown",
   "metadata": {},
   "source": [
    "## Rotate a list\n",
    "\n",
    "[Leetcode](https://leetcode.com/problems/rotate-list/description/)\n",
    "\n",
    "Given a list, rotate the list to the right by k places, where k is non-negative.\n",
    "\n",
    "\n",
    "Example:\n",
    "```\n",
    "Given 1->2->3->4->5->NULL and k = 2,\n",
    "return 4->5->1->2->3->NULL.\n",
    "```"
   ]
  },
  {
   "cell_type": "markdown",
   "metadata": {},
   "source": [
    "## Cycle \n",
    "[Leetcode source](https://leetcode.com/problems/linked-list-cycle/description/)\n",
    "\n",
    "Given a linked list, determine if it has a cycle in it.\n",
    "\n",
    "Follow up:\n",
    "Can you solve it without using extra space?"
   ]
  },
  {
   "cell_type": "code",
   "execution_count": null,
   "metadata": {
    "collapsed": true
   },
   "outputs": [],
   "source": []
  }
 ],
 "metadata": {
  "kernelspec": {
   "display_name": "Python 2",
   "language": "python",
   "name": "python2"
  },
  "language_info": {
   "codemirror_mode": {
    "name": "ipython",
    "version": 2
   },
   "file_extension": ".py",
   "mimetype": "text/x-python",
   "name": "python",
   "nbconvert_exporter": "python",
   "pygments_lexer": "ipython2",
   "version": "2.7.13"
  },
  "latex_envs": {
   "LaTeX_envs_menu_present": true,
   "autoclose": false,
   "autocomplete": true,
   "bibliofile": "biblio.bib",
   "cite_by": "apalike",
   "current_citInitial": 1,
   "eqLabelWithNumbers": true,
   "eqNumInitial": 1,
   "hotkeys": {
    "equation": "Ctrl-E",
    "itemize": "Ctrl-I"
   },
   "labels_anchors": false,
   "latex_user_defs": false,
   "report_style_numbering": false,
   "user_envs_cfg": false
  },
  "toc": {
   "nav_menu": {},
   "number_sections": true,
   "sideBar": true,
   "skip_h1_title": false,
   "title_cell": "Table of Contents",
   "title_sidebar": "Contents",
   "toc_cell": false,
   "toc_position": {
    "height": "calc(100% - 180px)",
    "left": "10px",
    "top": "150px",
    "width": "383px"
   },
   "toc_section_display": true,
   "toc_window_display": true
  }
 },
 "nbformat": 4,
 "nbformat_minor": 2
}
