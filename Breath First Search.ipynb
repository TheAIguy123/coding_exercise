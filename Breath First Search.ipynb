{
 "cells": [
  {
   "cell_type": "code",
   "execution_count": 1,
   "metadata": {
    "collapsed": true
   },
   "outputs": [],
   "source": [
    "from __future__ import print_function"
   ]
  },
  {
   "cell_type": "markdown",
   "metadata": {},
   "source": [
    "# Breath First Search"
   ]
  },
  {
   "cell_type": "markdown",
   "metadata": {},
   "source": [
    "## Perfect square \n",
    "[Source](https://leetcode.com/problems/perfect-squares/description/)\n",
    "\n",
    "Given a positive integer n, find the least number of perfect square numbers (for example, 1, 4, 9, 16, ...) which sum to n.\n",
    "\n",
    "For example, given n = 12, return 3 because 12 = 4 + 4 + 4; given n = 13, return 2 because 13 = 4 + 9.\n",
    "\n"
   ]
  },
  {
   "cell_type": "code",
   "execution_count": 23,
   "metadata": {},
   "outputs": [
    {
     "name": "stdout",
     "output_type": "stream",
     "text": [
      "Input: 10, output:2\n",
      "Input: 11, output:3\n",
      "Input: 12, output:3\n",
      "Input: 13, output:2\n",
      "Input: 14, output:3\n",
      "Input: 99, output:3\n",
      "Input: 100, output:1\n",
      "Input: 101, output:2\n",
      "Input: 7168, output:4\n",
      "list solution, running time: 0.70 s\n",
      "set solution, running time: 0.02 s\n"
     ]
    }
   ],
   "source": [
    "def numSquares(n):\n",
    "    if n < 2: return n \n",
    "    sqs = [i**2 for i in range(1, int(n**.5) + 1)]\n",
    "    if sqs[-1] == n: return 1 \n",
    "    cnt = 0 \n",
    "#     remain = {n}\n",
    "    remain = [n]\n",
    "    while remain: \n",
    "        cnt += 1 \n",
    "#         tmp = sett() \n",
    "        tmp = [] \n",
    "        for m in remain:\n",
    "            for s in sqs:\n",
    "                if s > m: break \n",
    "                if s == m: return cnt \n",
    "#                 tmp.add(m - s) \n",
    "                tmp.append(m - s)\n",
    "        remain = tmp \n",
    "        \n",
    "def numSquares1(n):\n",
    "    if n < 2: return n \n",
    "    sqs = [i**2 for i in range(1, int(n**.5) + 1)]\n",
    "    if sqs[-1] == n: return 1 \n",
    "    cnt = 0 \n",
    "    remain = {n}\n",
    "    while remain: \n",
    "        cnt += 1 \n",
    "        tmp = set() \n",
    "        for m in remain:\n",
    "            for s in sqs:\n",
    "                if s > m: break \n",
    "                if s == m: return cnt \n",
    "                tmp.add(m - s) \n",
    "        remain = tmp \n",
    "\n",
    "\n",
    "\n",
    "for n in [10, 11, 12, 13, 14, 99, 100, 101, 7168]:\n",
    "    print('Input: ' + str(n) + ', output:' + str(numSquares(n)))\n",
    "    \n",
    "from time import time \n",
    "t0 = time() \n",
    "numSquares(7168)\n",
    "print('list solution, running time: %.2f s' %(time() - t0))\n",
    "\n",
    "t0 = time() \n",
    "numSquares1(7168)\n",
    "print('set solution, running time: %.2f s' %(time() - t0))\n"
   ]
  },
  {
   "cell_type": "markdown",
   "metadata": {},
   "source": [
    "**set is more efficient than list since tmp may have duplicate elements.** "
   ]
  },
  {
   "cell_type": "code",
   "execution_count": null,
   "metadata": {
    "collapsed": true
   },
   "outputs": [],
   "source": []
  }
 ],
 "metadata": {
  "kernelspec": {
   "display_name": "Python 2",
   "language": "python",
   "name": "python2"
  },
  "language_info": {
   "codemirror_mode": {
    "name": "ipython",
    "version": 2
   },
   "file_extension": ".py",
   "mimetype": "text/x-python",
   "name": "python",
   "nbconvert_exporter": "python",
   "pygments_lexer": "ipython2",
   "version": "2.7.13"
  },
  "latex_envs": {
   "LaTeX_envs_menu_present": true,
   "autoclose": false,
   "autocomplete": true,
   "bibliofile": "biblio.bib",
   "cite_by": "apalike",
   "current_citInitial": 1,
   "eqLabelWithNumbers": true,
   "eqNumInitial": 1,
   "hotkeys": {
    "equation": "Ctrl-E",
    "itemize": "Ctrl-I"
   },
   "labels_anchors": false,
   "latex_user_defs": false,
   "report_style_numbering": false,
   "user_envs_cfg": false
  },
  "toc": {
   "nav_menu": {},
   "number_sections": true,
   "sideBar": true,
   "skip_h1_title": false,
   "title_cell": "Table of Contents",
   "title_sidebar": "Contents",
   "toc_cell": false,
   "toc_position": {},
   "toc_section_display": true,
   "toc_window_display": true
  }
 },
 "nbformat": 4,
 "nbformat_minor": 2
}
