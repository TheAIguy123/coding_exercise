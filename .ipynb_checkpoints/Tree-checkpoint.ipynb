{
 "cells": [
  {
   "cell_type": "code",
   "execution_count": 15,
   "metadata": {
    "collapsed": true
   },
   "outputs": [],
   "source": [
    "from __future__ import print_function\n",
    "def allpass():\n",
    "    print('All tests passed!!')"
   ]
  },
  {
   "cell_type": "markdown",
   "metadata": {},
   "source": [
    "# Trees\n",
    "\n",
    "[Tree problems in Leetcode](https://leetcode.com/tag/tree/)\n",
    "\n",
    "## TreeNode\n",
    "\n",
    "## Create a tree from a list \n",
    "\n",
    "## Tree Travere"
   ]
  },
  {
   "cell_type": "code",
   "execution_count": 57,
   "metadata": {},
   "outputs": [
    {
     "name": "stdout",
     "output_type": "stream",
     "text": [
      "4 1 0 2 0 1 4 2 4 1 2 0 "
     ]
    }
   ],
   "source": [
    "class TreeNode(object):\n",
    "    def __init__(self, val): \n",
    "        self.val = val \n",
    "        self.left = None \n",
    "        self.right = None \n",
    "\n",
    "def list2bintree(nums):\n",
    "    \"\"\"\n",
    "    Convert a list to a binary tree \n",
    "    nodes at index 2k + 1 and 2k+2 are respectively the left and the right node of \n",
    "    node at index k \n",
    "    \n",
    "    return the root \n",
    "    IDEA: \n",
    "    Using a queue: \n",
    "    1. push nums[0] into the queue \n",
    "    2. the next two nodes are left and right nodes of the head of the queue  \n",
    "    3. dequeue then enqueue these two nodes \n",
    "    repeat 2 and 3 until the end \n",
    "    \n",
    "    \"\"\"\n",
    "    if not nums: return None\n",
    "    q = [TreeNode(nums[0])]\n",
    "    dumm = q[0] \n",
    "    N = len(nums) \n",
    "    cnt = 0\n",
    "    while q:\n",
    "        node = q.pop(0) \n",
    "        if cnt + 1 < N:\n",
    "            leftnode = TreeNode(nums[cnt + 1])\n",
    "            q.append(leftnode)\n",
    "            node.left = leftnode \n",
    "            cnt += 1 \n",
    "        if cnt + 1 < N: \n",
    "            rightnode = TreeNode(nums[cnt + 1])\n",
    "            q.append(rightnode)\n",
    "            node.right = rightnode \n",
    "            cnt += 1 \n",
    "    \n",
    "    return dumm \n",
    "    \n",
    "def printInorderBTree(root): \n",
    "    if root: \n",
    "        printInorderBTree(root.left) \n",
    "        print(str(root.val) + ' ', end='')\n",
    "        printInorderBTree(root.right)\n",
    "#     else: \n",
    "#         print('None ', end='')\n",
    "        \n",
    "def printPreorderBTree(root): \n",
    "    if root: \n",
    "        print(str(root.val) + ' ', end='')\n",
    "        printPreorderBTree(root.left) \n",
    "        printPreorderBTree(root.right)\n",
    "\n",
    "def printPostorderBTree(root): \n",
    "    if root: \n",
    "        printPostorderBTree(root.left) \n",
    "        printPostorderBTree(root.right)\n",
    "        print(str(root.val) + ' ', end='')\n",
    "\n",
    "a = [0, 1, 2, 4]\n",
    "root = list2bintree(a) \n",
    "printInorderBTree(root) \n",
    "printPreorderBTree(root) \n",
    "printPostorderBTree(root) "
   ]
  },
  {
   "cell_type": "markdown",
   "metadata": {},
   "source": [
    "## Maximum Depth of Binary Tree\n",
    "[Source](https://leetcode.com/problems/maximum-depth-of-binary-tree/description/)\n",
    "\n",
    "Given a binary tree, find its maximum depth.\n",
    "\n",
    "The maximum depth is the number of nodes along the longest path from the root node down to the farthest leaf node.\n",
    "\n",
    "For example:\n",
    "```\n",
    "Given binary tree [3,9,20,null,null,15,7],\n",
    "\n",
    "    3\n",
    "   / \\\n",
    "  9  20\n",
    "    /  \\\n",
    "   15   7\n",
    "return its depth = 3.\n",
    "```"
   ]
  },
  {
   "cell_type": "code",
   "execution_count": 26,
   "metadata": {},
   "outputs": [
    {
     "name": "stdout",
     "output_type": "stream",
     "text": [
      "All tests passed!!\n"
     ]
    }
   ],
   "source": [
    "def maxDepth(root):\n",
    "    \"\"\"\n",
    "    :type root: TreeNode\n",
    "    :rtype: int\n",
    "    \n",
    "    43%\n",
    "    \"\"\"\n",
    "    if not root: return 0 \n",
    "    cnt = 0\n",
    "    row = [root]\n",
    "    while row: \n",
    "        cnt += 1\n",
    "        row = [kid for node in row for kid in (node.left, node.right) if kid]\n",
    "    return cnt\n",
    "\n",
    "def maxDepth2(root):\n",
    "    # 1 %\n",
    "    return 1 + max(map(maxDepth2, (root.left, root.right))) if root else 0\n",
    "\n",
    "tests = [([3,9,20,None,None,15,7], 3)]\n",
    "\n",
    "for test in tests: \n",
    "    bt = list2bintree(test[0])\n",
    "    res = maxDepth(bt) \n",
    "    assert res == test[-1], str(test[0])\n",
    "\n",
    "for test in tests: \n",
    "    bt = list2bintree(test[0])\n",
    "    res = maxDepth2(bt) \n",
    "    assert res == test[-1], str(test[0])\n",
    "\n",
    "allpass()\n",
    "    "
   ]
  },
  {
   "cell_type": "markdown",
   "metadata": {},
   "source": [
    "## Merge Two Binary Trees\n",
    "[Source](https://leetcode.com/problems/merge-two-binary-trees/description/) \n",
    "\n",
    "Given two binary trees and imagine that when you put one of them to cover the other, some nodes of the two trees are overlapped while the others are not.\n",
    "\n",
    "You need to merge them into a new binary tree. The merge rule is that if two nodes overlap, then sum node values up as the new value of the merged node. Otherwise, the NOT null node will be used as the node of new tree.\n",
    "```\n",
    "Example 1:\n",
    "Input: \n",
    "\tTree 1                     Tree 2                  \n",
    "          1                         2                             \n",
    "         / \\                       / \\                            \n",
    "        3   2                     1   3                        \n",
    "       /                           \\   \\                      \n",
    "      5                             4   7                  \n",
    "Output: \n",
    "Merged tree:\n",
    "\t     3\n",
    "\t    / \\\n",
    "\t   4   5\n",
    "\t  / \\   \\ \n",
    "\t 5   4   7\n",
    "```\n",
    "Note: The merging process must start from the root nodes of both trees."
   ]
  },
  {
   "cell_type": "code",
   "execution_count": 28,
   "metadata": {
    "collapsed": true
   },
   "outputs": [],
   "source": [
    "def mergeTrees(t1, t2):\n",
    "    \"\"\"\n",
    "    :type t1: TreeNode\n",
    "    :type t2: TreeNode\n",
    "    :rtype: TreeNode\n",
    "    \n",
    "    59.33%\n",
    "    \"\"\"\n",
    "    if not t1 and not t2: None\n",
    "    if not t1 or not t2: return t1 or t2 \n",
    "    root = TreeNode(t1.val + t2.val) \n",
    "    root.left = mergeTrees(t1.left, t2.left) \n",
    "    root.right = mergeTrees(t1.right, t2.right) \n",
    "    return root "
   ]
  },
  {
   "cell_type": "markdown",
   "metadata": {},
   "source": [
    "## Invert Binary Tree\n",
    "[Source](https://leetcode.com/problems/invert-binary-tree/description/) \n",
    "\n",
    "Invert a binary tree.\n",
    "```\n",
    "     4\n",
    "   /   \\\n",
    "  2     7\n",
    " / \\   / \\\n",
    "1   3 6   9\n",
    "to\n",
    "     4\n",
    "   /   \\\n",
    "  7     2\n",
    " / \\   / \\\n",
    "9   6 3   1\n",
    "```\n",
    "\n"
   ]
  },
  {
   "cell_type": "code",
   "execution_count": 29,
   "metadata": {},
   "outputs": [
    {
     "name": "stdout",
     "output_type": "stream",
     "text": [
      "1 2 4 5 3 6 \n",
      "1 3 6 2 5 4 "
     ]
    }
   ],
   "source": [
    "def invertTree(root): \n",
    "    if root: \n",
    "        root.left, root.right = invertTree(root.right), invertTree(root.left)\n",
    "    return root \n",
    "    \n",
    "bt = list2bintree([1, 2, 3, 4, 5, 6])\n",
    "printPreorderBTree(bt)\n",
    "print(\"\")\n",
    "printPreorderBTree(invertTree(bt))"
   ]
  },
  {
   "cell_type": "markdown",
   "metadata": {},
   "source": [
    "## 285. Inorder Successor in BST\n",
    "[Source](https://leetcode.com/problems/inorder-successor-in-bst/description/) \n",
    "\n",
    "Given a binary search tree and a node in it, find the in-order successor of that node in the BST.\n",
    "\n",
    "Note: If the given node has no in-order successor in the tree, return null."
   ]
  },
  {
   "cell_type": "code",
   "execution_count": null,
   "metadata": {
    "collapsed": true
   },
   "outputs": [],
   "source": [
    "def inorderSuccessor(root, p):\n",
    "    \"\"\"\n",
    "    :type root: TreeNode\n",
    "    :type p: TreeNode\n",
    "    :rtype: TreeNode\n",
    "    74.13%, 116ms \n",
    "    \"\"\"\n",
    "    if p.right: \n",
    "        node = p.right \n",
    "        while node.left: \n",
    "            node = node.left \n",
    "        return node \n",
    "\n",
    "    def helper(root, p, leftOf): \n",
    "        if root.val == p.val: \n",
    "            return leftOf \n",
    "        if p.val < root.val: \n",
    "            return helper(root.left, p, root) if root.left else None \n",
    "        return helper(root.right, p, leftOf)\n",
    "    return helper(root, p, None)\n",
    "\n",
    "def inorderSuccessor(root, p):\n",
    "    \"\"\"\n",
    "    112 ms\n",
    "    \"\"\"\n",
    "    succ = None\n",
    "    while root:\n",
    "        if p.val < root.val:\n",
    "            succ = root\n",
    "            root = root.left\n",
    "        else:\n",
    "            root = root.right\n",
    "    return succ\n"
   ]
  },
  {
   "cell_type": "markdown",
   "metadata": {},
   "source": [
    "## 96. Unique Binary Search Trees\n",
    "\n",
    "[Source](https://leetcode.com/problems/unique-binary-search-trees/description/)\n",
    "\n",
    "Given n, how many structurally unique BST's (binary search trees) that store values 1...n?\n",
    "\n",
    "For example,\n",
    "```\n",
    "Given n = 3, there are a total of 5 unique BST's.\n",
    "\n",
    "   1         3     3      2      1\n",
    "    \\       /     /      / \\      \\\n",
    "     3     2     1      1   3      2\n",
    "    /     /       \\                 \\\n",
    "   2     1         2                 3\n",
    "```"
   ]
  },
  {
   "cell_type": "code",
   "execution_count": 35,
   "metadata": {},
   "outputs": [
    {
     "name": "stdout",
     "output_type": "stream",
     "text": [
      "1\n",
      "2\n",
      "5\n",
      "14\n",
      "42\n",
      "132\n",
      "429\n",
      "1430\n",
      "4862\n",
      "16796\n"
     ]
    }
   ],
   "source": [
    "def numTrees(n):\n",
    "    \"\"\"\n",
    "    :type n: int\n",
    "    :rtype: int\n",
    "    35ms, 24.36%\n",
    "    \"\"\"\n",
    "    if n <= 0: return 0 \n",
    "    dp = [-1]*(n+1) # dp[i] = numTrees(i)\n",
    "    dp[1] = 1 \n",
    "    dp[0] = 1\n",
    "    # if n == 1: return 1 \n",
    "    def helper(m): \n",
    "        # if m == 1: return \n",
    "        if dp[m] < 0: \n",
    "            dp[m] = sum([helper(i-1)*helper(m-i) for i in range(1, m+1)])\n",
    "        return dp[m]\n",
    "    return helper(n) \n",
    "\n",
    "for n in range(1, 11):\n",
    "    print(numTrees(n))"
   ]
  },
  {
   "cell_type": "markdown",
   "metadata": {},
   "source": [
    "## 235. Lowest Common Ancestor of a Binary Search Tree\n",
    "\n",
    "[Source](https://leetcode.com/problems/lowest-common-ancestor-of-a-binary-search-tree/description/)\n",
    "\n",
    "Given a binary search tree (BST), find the lowest common ancestor (LCA) of two given nodes in the BST.\n",
    "\n",
    "According to the definition of LCA on Wikipedia: “The lowest common ancestor is defined between two nodes v and w as the lowest node in T that has both v and w as descendants (where we allow a node to be a descendant of itself).”\n",
    "```\n",
    "        _______6______\n",
    "       /              \\\n",
    "    ___2__          ___8__\n",
    "   /      \\        /      \\\n",
    "   0      _4       7       9\n",
    "         /  \\\n",
    "         3   5\n",
    "For example, the lowest common ancestor (LCA) of nodes 2 and 8 is 6. Another example is LCA of nodes 2 and 4 is 2, since a node can be a descendant of itself according to the LCA definition.\n",
    "```"
   ]
  },
  {
   "cell_type": "code",
   "execution_count": null,
   "metadata": {
    "collapsed": true
   },
   "outputs": [],
   "source": [
    "def lowestCommonAncestor(root, p, q):\n",
    "    \"\"\"\n",
    "    :type root: TreeNode\n",
    "    :type p: TreeNode\n",
    "    :type q: TreeNode\n",
    "    :rtype: TreeNode\n",
    "    64.01%\n",
    "    \"\"\"\n",
    "    a, b = sorted([p.val, q.val])\n",
    "    while root and (root.val - a)*(root.val-b) > 0:\n",
    "        root = root.right if a > root.val else root.left \n",
    "    return root "
   ]
  },
  {
   "cell_type": "markdown",
   "metadata": {},
   "source": [
    "## 236. Lowest Common Ancestor of a Binary Tree\n",
    "[Source](https://leetcode.com/problems/lowest-common-ancestor-of-a-binary-tree/description/)\n",
    "\n",
    "Given a binary tree, find the lowest common ancestor (LCA) of two given nodes in the tree.\n",
    "\n",
    "According to the definition of LCA on Wikipedia: “The lowest common ancestor is defined between two nodes v and w as the lowest node in T that has both v and w as descendants (where we allow a node to be a descendant of itself).”\n",
    "```\n",
    "        _______3______\n",
    "       /              \\\n",
    "    ___5__          ___1__\n",
    "   /      \\        /      \\\n",
    "   6      _2       0       8\n",
    "         /  \\\n",
    "         7   4\n",
    "For example, the lowest common ancestor (LCA) of nodes 5 and 1 is 3. Another example is LCA of nodes 5 and 4 is 5, since a node can be a descendant of itself according to the LCA definition.\n",
    "```"
   ]
  },
  {
   "cell_type": "code",
   "execution_count": null,
   "metadata": {
    "collapsed": true
   },
   "outputs": [],
   "source": [
    "def lowestCommonAncestor(root, p, q):\n",
    "    \"\"\"\n",
    "    :type root: TreeNode\n",
    "    :type p: TreeNode\n",
    "    :type q: TreeNode\n",
    "    :rtype: TreeNode\n",
    "    \"\"\"\n",
    "    parent = {root:None}\n",
    "    stack = [root] \n",
    "    while p not in parent or q not in parent: \n",
    "        node = stack.pop() \n",
    "        if node.left: \n",
    "            parent[node.left] = node \n",
    "            stack.append(node.left) \n",
    "        if node.right: \n",
    "            parent[node.right] = node\n",
    "            stack.append(node.right) \n",
    "    # build set of parent of p \n",
    "    ancestor = set() \n",
    "    while p: \n",
    "        ancestor.add(p) \n",
    "        p = parent[p] \n",
    "    while q: \n",
    "        if q in ancestor: return q \n",
    "        q = parent[q]"
   ]
  },
  {
   "cell_type": "markdown",
   "metadata": {},
   "source": [
    "## 108. Convert Sorted Array to Binary Search Tree\n",
    "[Source](https://leetcode.com/problems/convert-sorted-array-to-binary-search-tree/description/)\n",
    "\n",
    "Given an array where elements are sorted in ascending order, convert it to a height balanced BST.\n",
    "\n",
    "For this problem, a height-balanced binary tree is defined as a binary tree in which the depth of the two subtrees of every node never differ by more than 1.\n",
    "\n",
    "\n",
    "Example:\n",
    "```\n",
    "Given the sorted array: [-10,-3,0,5,9],\n",
    "\n",
    "One possible answer is: [0,-3,9,-10,null,5], which represents the following height balanced BST:\n",
    "\n",
    "      0\n",
    "     / \\\n",
    "   -3   9\n",
    "   /   /\n",
    " -10  5\n",
    " ```"
   ]
  },
  {
   "cell_type": "code",
   "execution_count": 36,
   "metadata": {
    "collapsed": true
   },
   "outputs": [],
   "source": [
    "def sortedArrayToBST(nums):\n",
    "    \"\"\"\n",
    "    :type nums: List[int]\n",
    "    :rtype: TreeNode\n",
    "    IDEA: \n",
    "    root = TreeNode(nums[mi])\n",
    "    root.left = sortedArrayToBST(nums[:mi])\n",
    "    root.val = sortedArrayToBST(nums[mi:])\n",
    "    \n",
    "    88ms, 66.90%\n",
    "    \"\"\"\n",
    "\n",
    "    if len(nums) == 0: return None \n",
    "\n",
    "    if len(nums) == 1: return TreeNode(nums[0])\n",
    "    mi = len(nums)//2 \n",
    "    root = TreeNode(nums[mi])\n",
    "    root.left = sortedArrayToBST(nums[:mi])\n",
    "    root.right = sortedArrayToBST(nums[mi+1:])\n",
    "    return root \n",
    "\n",
    "def sortedArrayToBST2(nums):\n",
    "    def helper(lo, hi): \n",
    "        if lo > hi: return None \n",
    "        mi = lo + (hi - lo) //2 \n",
    "        root = TreeNode(nums[mi])\n",
    "        root.left = helper(lo, mi-1)\n",
    "        root.right = helper(mi+1, hi)\n",
    "        return root \n",
    "    return helper(0, len(nums) - 1)"
   ]
  },
  {
   "cell_type": "code",
   "execution_count": 38,
   "metadata": {},
   "outputs": [
    {
     "data": {
      "text/plain": [
       "False"
      ]
     },
     "execution_count": 38,
     "metadata": {},
     "output_type": "execute_result"
    }
   ],
   "source": [
    "a = TreeNode(1) \n",
    "b = TreeNode(1) \n"
   ]
  },
  {
   "cell_type": "markdown",
   "metadata": {
    "collapsed": true
   },
   "source": [
    "## 124. Binary Tree Maximum Path Sum\n",
    "[Source](https://leetcode.com/problems/binary-tree-maximum-path-sum/description/)\n",
    "\n",
    "Given a binary tree, find the maximum path sum.\n",
    "\n",
    "For this problem, a path is defined as any sequence of nodes from some starting node to any node in the tree along the parent-child connections. The path must contain at least one node and does not need to go through the root.\n",
    "\n",
    "For example:\n",
    "```\n",
    "Given the below binary tree,\n",
    "\n",
    "       1\n",
    "      / \\\n",
    "     2   3\n",
    "Return 6.\n",
    "```\n"
   ]
  },
  {
   "cell_type": "code",
   "execution_count": null,
   "metadata": {
    "collapsed": true
   },
   "outputs": [],
   "source": [
    "def maxPathSum(self, root):\n",
    "    \"\"\"\n",
    "    :type root: TreeNode\n",
    "    :rtype: int\n",
    "    \"\"\"\n",
    "    def helper(root): \n",
    "        \"\"\"\n",
    "        return (maxPath ends at root, maxPath does not end at root)\n",
    "        \"\"\"\n",
    "        if not root: return (float('-inf'), float('-inf'))\n",
    "        left0, left1 = helper(root.left) \n",
    "        right0, right1 = helper(root.right) \n",
    "        a = max(left0, right0) \n",
    "        b = max(left1, right1)\n",
    "        return (max(a + root.val, root.val), max(a, b, left0 + root.val + right0))\n",
    "    return max(helper(root))"
   ]
  },
  {
   "cell_type": "markdown",
   "metadata": {},
   "source": [
    "## 654. Maximum Binary Tree\n",
    "[Source](https://leetcode.com/problems/maximum-binary-tree/description/)\n",
    "\n",
    "Given an integer array with no duplicates. A maximum tree building on this array is defined as follow:\n",
    "\n",
    "The root is the maximum number in the array.\n",
    "The left subtree is the maximum tree constructed from left part subarray divided by the maximum number.\n",
    "The right subtree is the maximum tree constructed from right part subarray divided by the maximum number.\n",
    "Construct the maximum tree by the given array and output the root node of this tree.\n",
    "\n",
    "Example 1:\n",
    "```\n",
    "Input: [3,2,1,6,0,5]\n",
    "Output: return the tree root node representing the following tree:\n",
    "\n",
    "      6\n",
    "    /   \\\n",
    "   3     5\n",
    "    \\    / \n",
    "     2  0   \n",
    "       \\\n",
    "        1\n",
    "```\n",
    "Note:\n",
    "The size of the given array will be in the range [1,1000]."
   ]
  },
  {
   "cell_type": "code",
   "execution_count": null,
   "metadata": {
    "collapsed": true
   },
   "outputs": [],
   "source": [
    "def constructMaximumBinaryTree(nums):\n",
    "    \"\"\"\n",
    "    :type nums: List[int]\n",
    "    :rtype: TreeNode\n",
    "    85.85% \n",
    "    \n",
    "    \"\"\"\n",
    "    def helper(nums, i, j):\n",
    "        if i > j: return None \n",
    "        if i == j: return TreeNode(nums[i])\n",
    "        best_id = i \n",
    "        best_val = nums[i] \n",
    "        for k in range(i, j+1): \n",
    "            if nums[k] > best_val: \n",
    "                best_id = k \n",
    "                best_val = nums[k]\n",
    "        root = TreeNode(best_val) \n",
    "        root.left = helper(nums, i, best_id - 1) \n",
    "        root.right = helper(nums, best_id + 1, j) \n",
    "        return root \n",
    "    return helper(nums, 0, len(nums)-1)"
   ]
  },
  {
   "cell_type": "markdown",
   "metadata": {},
   "source": [
    "## 222. Count Complete Tree Nodes\n",
    "[Source](https://leetcode.com/problems/count-complete-tree-nodes/description/)\n",
    "\n",
    "Given a complete binary tree, count the number of nodes.\n",
    "\n",
    "Definition of a complete binary tree from Wikipedia:\n",
    "In a complete binary tree every level, except possibly the last, is completely filled, and all nodes in the last level are as far left as possible. It can have between 1 and 2h nodes inclusive at the last level h.\n",
    "\n"
   ]
  },
  {
   "cell_type": "code",
   "execution_count": 49,
   "metadata": {},
   "outputs": [
    {
     "name": "stdout",
     "output_type": "stream",
     "text": [
      "3\n"
     ]
    }
   ],
   "source": [
    "def countNodes(root):\n",
    "    \"\"\"\n",
    "    :type root: TreeNode\n",
    "    :rtype: int\n",
    "    % 65.97%\n",
    "    IDEA: if every node has zero child or two children -> 2*h - 1 with h is height of the tree \n",
    "    We call this full tree \n",
    "    compute heights of left and right \n",
    "    if leftheight == rightheight -> left tree is full \n",
    "    else right tree is full \n",
    "    \"\"\"\n",
    "    def depth(root): \n",
    "        res = 0\n",
    "        while root: \n",
    "            res += 1\n",
    "            root = root.left\n",
    "        return res \n",
    "    if not root: return 0 \n",
    "    leftdepth = depth(root.left) \n",
    "    rightdepth = depth(root.right) \n",
    "    if leftdepth == rightdepth: \n",
    "        return countNodes(root.right) + (1 << right)\n",
    "    return countNodes(root.left) + (1 << rightdepth)\n",
    "\n",
    "bt = list2bintree([1, 2, 3])\n",
    "print(countNodes(bt))"
   ]
  },
  {
   "cell_type": "code",
   "execution_count": 50,
   "metadata": {},
   "outputs": [
    {
     "name": "stdout",
     "output_type": "stream",
     "text": [
      "10000000 loops, best of 3: 144 ns per loop\n",
      "100000000 loops, best of 3: 17.5 ns per loop\n",
      "100000000 loops, best of 3: 17.6 ns per loop\n"
     ]
    }
   ],
   "source": [
    "%timeit pow(2, 10) \n",
    "%timeit 2**10\n",
    "%timeit 1<<10 "
   ]
  },
  {
   "cell_type": "code",
   "execution_count": 52,
   "metadata": {},
   "outputs": [
    {
     "name": "stdout",
     "output_type": "stream",
     "text": [
      "1 1 1\n"
     ]
    }
   ],
   "source": [
    "print(pow(2, 0), 2**0, 1<<0)"
   ]
  },
  {
   "cell_type": "markdown",
   "metadata": {},
   "source": [
    "## 105. Construct Binary Tree from Preorder and Inorder Traversal\n",
    "[Source](https://leetcode.com/problems/construct-binary-tree-from-preorder-and-inorder-traversal/description/) \n",
    "\n",
    "Given preorder and inorder traversal of a tree, construct the binary tree.\n",
    "\n",
    "Note:\n",
    "You may assume that duplicates do not exist in the tree.\n",
    "\n",
    "For example, given\n",
    "```\n",
    "preorder = [3,9,20,15,7]\n",
    "inorder = [9,3,15,20,7]\n",
    "Return the following binary tree:\n",
    "\n",
    "    3\n",
    "   / \\\n",
    "  9  20\n",
    "    /  \\\n",
    "   15   7\n",
    "```"
   ]
  },
  {
   "cell_type": "code",
   "execution_count": null,
   "metadata": {
    "collapsed": true
   },
   "outputs": [],
   "source": [
    "def buildTree(self, preorder, inorder):\n",
    "    \"\"\"\n",
    "    :type preorder: List[int]\n",
    "    :type inorder: List[int]\n",
    "    :rtype: TreeNode\n",
    "    21.09 % \n",
    "    IDEA: preorder[0] is the root \n",
    "    index of inorder[0] is the split \n",
    "    \"\"\"\n",
    "    if len(preorder) == 0: return None \n",
    "    root = TreeNode(preorder[0])\n",
    "    split = inorder.index(preorder[0])\n",
    "    root.left = self.buildTree(preorder[1:split+1], inorder[:split])\n",
    "    root.right = self.buildTree(preorder[split+1:], inorder[split+1:])\n",
    "    return root \n",
    "def buildTree2(self, preorder, inorder):\n",
    "        \"\"\"\n",
    "        :type preorder: List[int]\n",
    "        :type inorder: List[int]\n",
    "        :rtype: TreeNode\n",
    "        81.01%\n",
    "        \"\"\"\n",
    "        def helper(sp, ep, si, ei):\n",
    "            if sp > ep: return None \n",
    "            if sp == ep: return TreeNode(preorder[sp])\n",
    "            root = TreeNode(preorder[sp])\n",
    "            split = inorder[si:ei+1].index(preorder[sp])\n",
    "            root.left = helper(sp+1, sp + split, si, si + split-1)\n",
    "            root.right = helper(sp + 1 + split, ep, si + split+1, ei)\n",
    "            return root \n",
    "\n",
    "        n = len(preorder)\n",
    "        return helper(0, n-1, 0, n - 1)\n",
    "        "
   ]
  },
  {
   "cell_type": "markdown",
   "metadata": {},
   "source": [
    "## 98. Validate Binary Search Tree\n",
    "[Source](https://leetcode.com/problems/validate-binary-search-tree/description/)\n",
    "\n",
    "Given a binary tree, determine if it is a valid binary search tree (BST).\n",
    "\n",
    "Assume a BST is defined as follows:\n",
    "\n",
    "The left subtree of a node contains only nodes with keys less than the node's key.\n",
    "The right subtree of a node contains only nodes with keys greater than the node's key.\n",
    "Both the left and right subtrees must also be binary search trees.\n",
    "Example 1:\n",
    "```\n",
    "    2\n",
    "   / \\\n",
    "  1   3\n",
    "Binary tree [2,1,3], return true.\n",
    "```\n",
    "Example 2:\n",
    "```\n",
    "    1\n",
    "   / \\\n",
    "  2   3\n",
    "Binary tree [1,2,3], return false.\n",
    "```"
   ]
  },
  {
   "cell_type": "code",
   "execution_count": 60,
   "metadata": {},
   "outputs": [
    {
     "name": "stdout",
     "output_type": "stream",
     "text": [
      "True\n",
      "True\n"
     ]
    }
   ],
   "source": [
    "def isValidBST(root):\n",
    "    \"\"\"\n",
    "    :type root: TreeNode\n",
    "    :rtype: bool\n",
    "    12% \n",
    "    \"\"\"\n",
    "    def helper(root, L, R):\n",
    "        if not root: return True \n",
    "        if root.left and not (root.left.val < root.val) or not helper(root.left, L, root.val): return False \n",
    "        if root.right and not (root.right.val > root.val) or not helper(root.right, root.val, R): return False \n",
    "        return L < root.val < R \n",
    "    return helper(root, float('-inf'), float('inf') )\n",
    "\n",
    "def isValidBST2(root): \n",
    "    \"\"\"\n",
    "    20%\n",
    "    \"\"\"\n",
    "    pre = None \n",
    "    stack = []\n",
    "    cur = root \n",
    "    while stack or cur: \n",
    "        while cur: \n",
    "            stack.append(cur)\n",
    "            cur = cur.left \n",
    "        top = stack.pop() \n",
    "        if pre and pre.val>= top.val: \n",
    "            return False \n",
    "        pre = top \n",
    "        cur = top.right \n",
    "    return True \n",
    "\n",
    "bst = list2bintree([5, 3, 7, 2, 4, 6, 10])\n",
    "print(isValidBST(bst))\n",
    "print(isValidBST2(bst))\n"
   ]
  },
  {
   "cell_type": "code",
   "execution_count": null,
   "metadata": {
    "collapsed": true
   },
   "outputs": [],
   "source": []
  }
 ],
 "metadata": {
  "kernelspec": {
   "display_name": "Python 2",
   "language": "python",
   "name": "python2"
  },
  "language_info": {
   "codemirror_mode": {
    "name": "ipython",
    "version": 2
   },
   "file_extension": ".py",
   "mimetype": "text/x-python",
   "name": "python",
   "nbconvert_exporter": "python",
   "pygments_lexer": "ipython2",
   "version": "2.7.13"
  },
  "latex_envs": {
   "LaTeX_envs_menu_present": true,
   "autoclose": false,
   "autocomplete": true,
   "bibliofile": "biblio.bib",
   "cite_by": "apalike",
   "current_citInitial": 1,
   "eqLabelWithNumbers": true,
   "eqNumInitial": 1,
   "hotkeys": {
    "equation": "Ctrl-E",
    "itemize": "Ctrl-I"
   },
   "labels_anchors": false,
   "latex_user_defs": false,
   "report_style_numbering": false,
   "user_envs_cfg": false
  },
  "toc": {
   "nav_menu": {},
   "number_sections": true,
   "sideBar": true,
   "skip_h1_title": false,
   "title_cell": "Table of Contents",
   "title_sidebar": "Contents",
   "toc_cell": false,
   "toc_position": {},
   "toc_section_display": true,
   "toc_window_display": true
  }
 },
 "nbformat": 4,
 "nbformat_minor": 2
}
