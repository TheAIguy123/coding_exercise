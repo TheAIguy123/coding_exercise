{
 "cells": [
  {
   "cell_type": "code",
   "execution_count": 1,
   "metadata": {
    "collapsed": true
   },
   "outputs": [],
   "source": [
    "from __future__ import print_function\n",
    "\n",
    "def allpass():\n",
    "    print('All tests passed!!')"
   ]
  },
  {
   "cell_type": "markdown",
   "metadata": {},
   "source": [
    "# Bit maipulations"
   ]
  },
  {
   "cell_type": "markdown",
   "metadata": {},
   "source": [
    "## Counting bit 1"
   ]
  },
  {
   "cell_type": "code",
   "execution_count": 71,
   "metadata": {},
   "outputs": [
    {
     "name": "stdout",
     "output_type": "stream",
     "text": [
      "All tests passed!!\n"
     ]
    }
   ],
   "source": [
    "\"\"\"\n",
    "Counting number of bit 1 in a nonegative number \n",
    "\"\"\"\n",
    "def naive_count(n):\n",
    "    res = 0 \n",
    "    while n > 0: \n",
    "        res += n & 1 \n",
    "        n >>= 1\n",
    "    return res \n",
    "\n",
    "def fast_count(n): \n",
    "    res = 0    \n",
    "    while n != 0:\n",
    "        n = n & (n-1)\n",
    "        res += 1 \n",
    "    return res \n",
    "\n",
    "tests = [(0, 0), (1, 1), (4, 1), (15, 4), (128, 1)]\n",
    "for test in tests: \n",
    "    res = naive_count(test[0])\n",
    "    assert res == test[1], res \n",
    "\n",
    "for test in tests: \n",
    "    res = fast_count(test[0])\n",
    "    assert res == test[1], res \n",
    "\n",
    "\n",
    "    \n",
    "allpass() \n"
   ]
  },
  {
   "cell_type": "code",
   "execution_count": 72,
   "metadata": {},
   "outputs": [
    {
     "name": "stdout",
     "output_type": "stream",
     "text": [
      "The slowest run took 122.96 times longer than the fastest. This could mean that an intermediate result is being cached.\n",
      "10000000 loops, best of 3: 25.2 ns per loop\n",
      "10000000 loops, best of 3: 24.9 ns per loop\n"
     ]
    }
   ],
   "source": [
    "%timeit naive_count\n",
    "%timeit fast_count"
   ]
  },
  {
   "cell_type": "markdown",
   "metadata": {},
   "source": [
    "## Switch odd and even bits \n",
    "Given a binary number, for example `1100100100`, switch bit `2k` and bit `2k+1`. Where, bit 0 is the right most bit. "
   ]
  },
  {
   "cell_type": "code",
   "execution_count": 4,
   "metadata": {},
   "outputs": [
    {
     "name": "stdout",
     "output_type": "stream",
     "text": [
      "0b1110000100\n",
      "0b1101001000\n"
     ]
    }
   ],
   "source": [
    "\"\"\"\n",
    "idea: \n",
    "1. mask even bits, shift left by 1 \n",
    "2. mask odd bits, sift right by 1 \n",
    "3. 'merge' two new numbers by or operator \n",
    "Suppose that 32 bit integer \n",
    "n = 0b10111110 \n",
    "mask_evn = 0b01010101\n",
    "\"\"\"\n",
    "\n",
    "def switch_bit(n): \n",
    "    # mask for odd bit: ...0101010101 \n",
    "    # mask for even bit: ...1010101010 \n",
    "    mask_evn = 0 \n",
    "    for i in range(16): \n",
    "        mask_evn = (mask_evn <<2) | 1 \n",
    "    odd_new = (n & mask_evn) <<1 \n",
    "    mask_odd = mask_evn << 1 \n",
    "    evn_new = (n & mask_odd) >> 1 \n",
    "    return odd_new | evn_new  \n",
    "\n",
    "n = 900 \n",
    "print(bin(n))\n",
    "print(bin(switch_bit(n)))\n",
    "    "
   ]
  },
  {
   "cell_type": "markdown",
   "metadata": {
    "collapsed": true
   },
   "source": [
    "## Clear `n` right most bits of `x` \n",
    "```\n",
    "x & (~0 << n)\n",
    "```\n",
    "where `~0` returns a sequence of 1s. "
   ]
  },
  {
   "cell_type": "code",
   "execution_count": 6,
   "metadata": {},
   "outputs": [
    {
     "name": "stdout",
     "output_type": "stream",
     "text": [
      "0b1100100 0b1100000\n"
     ]
    }
   ],
   "source": [
    "x = 100\n",
    "y = x & (~0 << 4) \n",
    "print(bin(x), bin(y))\n"
   ]
  },
  {
   "cell_type": "markdown",
   "metadata": {},
   "source": [
    "## Get bit \n",
    "Get the `i`-th bit (from the right, the right most is the 0-th bit) of a number `n` "
   ]
  },
  {
   "cell_type": "code",
   "execution_count": 9,
   "metadata": {},
   "outputs": [
    {
     "name": "stdout",
     "output_type": "stream",
     "text": [
      "0\n",
      "1\n"
     ]
    }
   ],
   "source": [
    "def getbit(n, i): \n",
    "    mask = 1 << i \n",
    "    return 1 if n & mask else 0 \n",
    "\n",
    "print(getbit(10, 0))\n",
    "print(getbit(10, 1))"
   ]
  },
  {
   "cell_type": "markdown",
   "metadata": {},
   "source": [
    "## Set bit "
   ]
  },
  {
   "cell_type": "code",
   "execution_count": 10,
   "metadata": {},
   "outputs": [
    {
     "name": "stdout",
     "output_type": "stream",
     "text": [
      "0b1011\n"
     ]
    }
   ],
   "source": [
    "def setbit(n, i): \n",
    "    return n | (1 << i)\n",
    "n = 10 \n",
    "i = 0 \n",
    "print(bin(setbit(n, i)))"
   ]
  },
  {
   "cell_type": "markdown",
   "metadata": {},
   "source": [
    "## Clear bit "
   ]
  },
  {
   "cell_type": "code",
   "execution_count": 11,
   "metadata": {},
   "outputs": [
    {
     "name": "stdout",
     "output_type": "stream",
     "text": [
      "0b1000\n"
     ]
    }
   ],
   "source": [
    "def clearbit(n, i): \n",
    "    mask = ~(1 << i)\n",
    "    return n & mask \n",
    "n = 10 \n",
    "i = 1 \n",
    "print(bin(clearbit(n, i)))"
   ]
  },
  {
   "cell_type": "code",
   "execution_count": 13,
   "metadata": {},
   "outputs": [
    {
     "name": "stdout",
     "output_type": "stream",
     "text": [
      "0b1010\n"
     ]
    }
   ],
   "source": [
    "print(bin(10 & ~0))"
   ]
  },
  {
   "cell_type": "markdown",
   "metadata": {},
   "source": [
    "## Update bit \n"
   ]
  },
  {
   "cell_type": "code",
   "execution_count": 14,
   "metadata": {},
   "outputs": [
    {
     "name": "stdout",
     "output_type": "stream",
     "text": [
      "0b1110\n"
     ]
    }
   ],
   "source": [
    "def updatebit(n, i, v):\n",
    "    \"\"\"\n",
    "    v = 0 or 1\n",
    "    idea: clear bit then or n with v << i\n",
    "    \"\"\"\n",
    "    # clear bit \n",
    "    mask = ~(1 << i) \n",
    "    n &= mask \n",
    "    return n | (v << i)\n",
    "\n",
    "print(bin(updatebit(10, 2, 1)))    "
   ]
  },
  {
   "cell_type": "markdown",
   "metadata": {},
   "source": [
    "## Insert \n",
    "You are gviven two 32-bit numbers, N and M, and two bit positions, i and j. Write a method to insert M into N such that M starts at bit j and ends at bit i (j <= i). You can assume that the bits j through i have enough space to fit all of M. That is, if `M = 10011`, you can assume that there are at least 5 bits between j and i. You would not, for example, have j = 3 and i = 2, because M could not fully fit between bit 3 and 2. \n",
    "\n",
    "Example:\n",
    "```\n",
    "Input: N = 10000000000, M = 10011, i = 2, j = 6 \n",
    "Output: N = 10001001100 \n",
    "```"
   ]
  },
  {
   "cell_type": "code",
   "execution_count": 24,
   "metadata": {},
   "outputs": [
    {
     "name": "stdout",
     "output_type": "stream",
     "text": [
      "0b10101000\n"
     ]
    }
   ],
   "source": [
    "def insert(N, M, i, j): \n",
    "    # step 1: clear bit j -- i of N \n",
    "    mask = (1 << (j - i + 1) - 1) << i \n",
    "    N &= ~mask \n",
    "    # step 2: shift left M by j\n",
    "    \n",
    "    # step 3: update N \n",
    "    return N | (M << i)\n",
    "\n",
    "N = 128 \n",
    "M = 10 \n",
    "i, j = 2, 5\n",
    "\n",
    "print(bin(insert(N, M, i, j)))\n"
   ]
  },
  {
   "cell_type": "markdown",
   "metadata": {},
   "source": [
    "## Decimal number \n",
    "Given a real number between 0 and 1 (e.g 0.75) that is passed in as a double. Print the binary representation. If the number cannot be represented accuratly in a binary with at most 32 characters, print 'ERROR'\n",
    "\n",
    "Examples:\n",
    "```\n",
    "n = 0.5\n",
    "return .1 \n",
    "``` \n",
    "Ex2: \n",
    "```\n",
    "n = 0.75\n",
    "return .11 since 0.75 = 2^{-1} + 2^{-2} \n",
    "```"
   ]
  },
  {
   "cell_type": "code",
   "execution_count": 52,
   "metadata": {},
   "outputs": [
    {
     "name": "stdout",
     "output_type": "stream",
     "text": [
      ".1\n",
      ".1111111111111111111111111111111\n"
     ]
    }
   ],
   "source": [
    "def real2bin(n): \n",
    "    \"\"\"\n",
    "    n: a float number between 0 and 1 \n",
    "    rtype: a string \n",
    "    \"\"\"\n",
    "    if n >= 1 or n < 0: \n",
    "        print('ERROR')\n",
    "        return \n",
    "    res = '.'\n",
    "    cnt = 0 \n",
    "    while n > 0 and cnt < 33: \n",
    "        n *= 2\n",
    "#         if n > 1: \n",
    "#             res += '1'\n",
    "#             n -= 1 \n",
    "#         else: \n",
    "#             res += '0'\n",
    "#             n -= 0 \n",
    "        res += '01'[n >= 1]\n",
    "        n -= n >= 1 \n",
    "        cnt += 1\n",
    "    return res if cnt < 33 else 'ERROR'\n",
    "    \n",
    "print(real2bin(0.5))\n",
    "print(real2bin(sum([2**(-i) for i in range(1, 32)])))"
   ]
  },
  {
   "cell_type": "code",
   "execution_count": 46,
   "metadata": {},
   "outputs": [
    {
     "data": {
      "text/plain": [
       "1.5"
      ]
     },
     "execution_count": 46,
     "metadata": {},
     "output_type": "execute_result"
    }
   ],
   "source": [
    "sum([(2.)**(-i) for i in range(2)])"
   ]
  },
  {
   "cell_type": "markdown",
   "metadata": {
    "collapsed": true
   },
   "source": [
    "## 421. Maximum XOR of Two Numbers in an Array\n",
    "[Source](https://leetcode.com/problems/maximum-xor-of-two-numbers-in-an-array/description/)\n",
    "\n",
    "Given a non-empty array of numbers, a0, a1, a2, … , an-1, where 0 ≤ ai < 231.\n",
    "\n",
    "Find the maximum result of ai XOR aj, where 0 ≤ i, j < n.\n",
    "\n",
    "Could you do this in O(n) runtime?\n",
    "\n",
    "Example:\n",
    "```\n",
    "Input: [3, 10, 5, 25, 2, 8]\n",
    "\n",
    "Output: 28\n",
    "\n",
    "Explanation: The maximum result is 5 ^ 25 = 28.\n",
    "```"
   ]
  },
  {
   "cell_type": "code",
   "execution_count": null,
   "metadata": {
    "collapsed": true
   },
   "outputs": [],
   "source": [
    "def findMaximumXOR(self, nums):\n",
    "    \"\"\"\n",
    "    :type nums: List[int]\n",
    "    :rtype: int\n",
    "    41%\n",
    "    idea: start from MSB, if there exist two numbers such that they are different in this bit \n",
    "    -> set this bit to 1, else 0. \n",
    "    \n",
    "    \"\"\"\n",
    "    res = 0 \n",
    "    mask = 0 \n",
    "    for i in range(31, -1, -1): \n",
    "        mask |= 1 << i # last i bits are 0, else are 1. 110000..00\n",
    "        s = set() # set of all possible prefixes\n",
    "        for n in nums: \n",
    "            s.add(n & mask)\n",
    "        tmp = res | (1 << i) # set the next bit of res equal to 1 \n",
    "        for p in s: \n",
    "            # if tmp^p == q then p^q == tmp, which means there exists two numbers which are\n",
    "            # different at this bit.\n",
    "            if tmp ^ p in s: \n",
    "                res = tmp\n",
    "                break \n",
    "    return res "
   ]
  }
 ],
 "metadata": {
  "kernelspec": {
   "display_name": "Python 2",
   "language": "python",
   "name": "python2"
  },
  "language_info": {
   "codemirror_mode": {
    "name": "ipython",
    "version": 2
   },
   "file_extension": ".py",
   "mimetype": "text/x-python",
   "name": "python",
   "nbconvert_exporter": "python",
   "pygments_lexer": "ipython2",
   "version": "2.7.13"
  },
  "latex_envs": {
   "LaTeX_envs_menu_present": true,
   "autoclose": false,
   "autocomplete": true,
   "bibliofile": "biblio.bib",
   "cite_by": "apalike",
   "current_citInitial": 1,
   "eqLabelWithNumbers": true,
   "eqNumInitial": 1,
   "hotkeys": {
    "equation": "Ctrl-E",
    "itemize": "Ctrl-I"
   },
   "labels_anchors": false,
   "latex_user_defs": false,
   "report_style_numbering": false,
   "user_envs_cfg": false
  },
  "toc": {
   "nav_menu": {},
   "number_sections": true,
   "sideBar": true,
   "skip_h1_title": false,
   "title_cell": "Table of Contents",
   "title_sidebar": "Contents",
   "toc_cell": false,
   "toc_position": {},
   "toc_section_display": true,
   "toc_window_display": true
  }
 },
 "nbformat": 4,
 "nbformat_minor": 2
}
