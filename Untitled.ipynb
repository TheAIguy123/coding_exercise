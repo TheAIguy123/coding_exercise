{
 "cells": [
  {
   "cell_type": "code",
   "execution_count": 1,
   "metadata": {},
   "outputs": [
    {
     "name": "stdout",
     "output_type": "stream",
     "text": [
      "All tests passed!\n"
     ]
    }
   ],
   "source": [
    "'''\n",
    "https://leetcode.com/problems/maximum-product-of-three-numbers/description/\n",
    "Given an integer array, find three numbers whose product is maximum and output the maximum product.\n",
    "\n",
    "Example 1:\n",
    " [1,2,3]\n",
    "Output: 6\n",
    "Example 2:\n",
    "Input: [1,2,3,4]\n",
    "Output: 24\n",
    "\n",
    "Example 3:\n",
    "Input: [-3, -2, -1, 0, 1]\n",
    "Output: 6\n",
    "\n",
    "Ex4:\n",
    "Input: [-4, -3, -2, -1]\n",
    "Output: -6\n",
    "\n",
    "IDEA: \n",
    "sort the array first. The maximum will be either nums[-1]*nums[-2]*nums[-3] or \n",
    "nums[-1]*nums[1]*nums[0]\n",
    "'''\n",
    "\n",
    "\n",
    "from time import time \n",
    "import heapq \n",
    "class Solution(object):\n",
    "    def maximumProduct(self, nums):\n",
    "        \"\"\"\n",
    "        :type n: int\n",
    "        :type primes: List[int]\n",
    "        :rtype: int\n",
    "        \"\"\"\n",
    "        nums.sort()\n",
    "        return max(nums[-1]*nums[-2]*nums[-3], nums[-1]*nums[0]*nums[1])\n",
    "\n",
    "    # faster \n",
    "    # find 3 largest and 2 smallest only \n",
    "    def maximumProduct2(self,nums):\n",
    "        a, b = heapq.nlargest(3, nums), heapq.nsmallest(2, nums)\n",
    "        return max(a[0]*a[1]*a[2], a[0]*b[1]*b[0])\n",
    "\n",
    "tests = [ ([1,2,3], 6),\n",
    "        ([1,2,3,4], 24),\n",
    "        ([-3, -2, -1, 0, 1], 6),\n",
    "        ([-4, -3, -2, -1], -6)]\n",
    "\n",
    "\n",
    "for test in tests:\n",
    "    out = Solution().maximumProduct2(test[0])\n",
    "    assert out == test[1], \"incorrect in \" + str(test) + \", out = \" + str(out)\n",
    "\n",
    "print \"All tests passed!\"\n",
    "# t1 = time()\n",
    "# print Solution().numSquares(7168)\n",
    "# print time() - t1\n",
    "# print \"Done\""
   ]
  },
  {
   "cell_type": "code",
   "execution_count": null,
   "metadata": {
    "collapsed": true
   },
   "outputs": [],
   "source": []
  }
 ],
 "metadata": {
  "kernelspec": {
   "display_name": "Python 2",
   "language": "python",
   "name": "python2"
  },
  "language_info": {
   "codemirror_mode": {
    "name": "ipython",
    "version": 2
   },
   "file_extension": ".py",
   "mimetype": "text/x-python",
   "name": "python",
   "nbconvert_exporter": "python",
   "pygments_lexer": "ipython2",
   "version": "2.7.13"
  },
  "latex_envs": {
   "LaTeX_envs_menu_present": true,
   "autoclose": false,
   "autocomplete": true,
   "bibliofile": "biblio.bib",
   "cite_by": "apalike",
   "current_citInitial": 1,
   "eqLabelWithNumbers": true,
   "eqNumInitial": 1,
   "hotkeys": {
    "equation": "Ctrl-E",
    "itemize": "Ctrl-I"
   },
   "labels_anchors": false,
   "latex_user_defs": false,
   "report_style_numbering": false,
   "user_envs_cfg": false
  },
  "toc": {
   "nav_menu": {},
   "number_sections": true,
   "sideBar": true,
   "skip_h1_title": false,
   "title_cell": "Table of Contents",
   "title_sidebar": "Contents",
   "toc_cell": false,
   "toc_position": {},
   "toc_section_display": true,
   "toc_window_display": true
  }
 },
 "nbformat": 4,
 "nbformat_minor": 2
}
