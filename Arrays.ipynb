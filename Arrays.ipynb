{
 "cells": [
  {
   "cell_type": "code",
   "execution_count": null,
   "metadata": {
    "collapsed": true
   },
   "outputs": [],
   "source": [
    "from __future__ import print_function"
   ]
  },
  {
   "cell_type": "markdown",
   "metadata": {
    "collapsed": true
   },
   "source": [
    "# Arrays"
   ]
  },
  {
   "cell_type": "markdown",
   "metadata": {},
   "source": [
    "## Merge two sorted array\n",
    "[Leetcode source](https://leetcode.com/problems/merge-sorted-array/description/)\n",
    "\n",
    "Given two sorted integer arrays nums1 and nums2, merge nums2 into nums1 as one sorted array.\n",
    "\n",
    "Note:\n",
    "You may assume that nums1 has enough space (size that is greater or equal to m + n) to hold additional elements from nums2. The number of elements initialized in nums1 and nums2 are m and n respectively.\n",
    "\n",
    "\n"
   ]
  },
  {
   "cell_type": "code",
   "execution_count": 27,
   "metadata": {},
   "outputs": [
    {
     "name": "stdout",
     "output_type": "stream",
     "text": [
      "[1, 2, 3, 4, 5, 7, 8, 9]\n"
     ]
    }
   ],
   "source": [
    "def merge(num1, m, num2, n):\n",
    "    \"\"\"\n",
    "    num1 have at least m+ n spaces, but consider its first m elements \n",
    "    \"\"\"\n",
    "    # idea: from the end \n",
    "    while m and n: \n",
    "        if num1[m-1] > num2[n-1]: \n",
    "            num1[m+n-1] = num1[m-1]\n",
    "            m -= 1\n",
    "        else: \n",
    "            num1[m+n-1] = num2[n-1]\n",
    "            n -= 1\n",
    "    if n: num1[:n] = num2[:n]\n",
    "\n",
    "\n",
    "    \n",
    "    \n",
    "num1 = [1, 4, 7, 8, None, None, None, None]\n",
    "num2 = [2, 3, 5, 9, None]\n",
    "\n",
    "merge(num1, 4, num2, 4)\n",
    "print(num1)\n"
   ]
  },
  {
   "cell_type": "markdown",
   "metadata": {},
   "source": [
    "## Two sum \n",
    "\n",
    "[Leetcode source](https://leetcode.com/problems/two-sum/description/)\n",
    "\n",
    "Given an array of integers, return indices of the two numbers such that they add up to a specific target.\n",
    "\n",
    "You may assume that each input would have exactly one solution, and you may not use the same element twice.\n",
    "\n",
    "Example\n",
    "```\n",
    "Given nums = [2, 7, 11, 15], target = 9,\n",
    "\n",
    "Because nums[0] + nums[1] = 2 + 7 = 9,\n",
    "return [0, 1].\n",
    "```"
   ]
  },
  {
   "cell_type": "code",
   "execution_count": 30,
   "metadata": {},
   "outputs": [
    {
     "name": "stdout",
     "output_type": "stream",
     "text": [
      "nums = [2, 7, 11, 15], target =  9 , results =  [0, 1]\n",
      "nums = [2, 7, 11, 15], target =  22 , results =  [1, 3]\n"
     ]
    }
   ],
   "source": [
    "def two_sum(nums, target):\n",
    "    # idea: using dictionary (hash table)\n",
    "    d = {} \n",
    "    for i, n in enumerate(nums): \n",
    "        if target - n in d: \n",
    "            return [d[target-n], i] \n",
    "        d[n] = i \n",
    "            \n",
    "        \n",
    "    \n",
    "nums, target = [2, 7, 11, 15], 9 \n",
    "print('nums = '+ str(nums)+ ', target = ', str(target), ', results = ', \n",
    "     str(two_sum(nums, target)))\n",
    "\n",
    "\n",
    "nums, target = [2, 7, 11, 15], 22\n",
    "print('nums = '+ str(nums)+ ', target = ', str(target), ', results = ', \n",
    "     str(two_sum(nums, target)))\n"
   ]
  },
  {
   "cell_type": "markdown",
   "metadata": {},
   "source": [
    "## Maximum subarray\n",
    "\n",
    "[Leetcode source](https://leetcode.com/problems/maximum-subarray/description/)\n",
    "\n",
    "Find the contiguous subarray within an array (containing at least one number) which has the largest sum.\n",
    "\n",
    "For example, given the array [-2,1,-3,4,-1,2,1,-5,4],\n",
    "the contiguous subarray [4,-1,2,1] has the largest sum = 6.\n",
    "\n",
    "click to show more practice.\n",
    "\n",
    "More practice:\n",
    "If you have figured out the O(n) solution, try coding another solution using the divide and conquer approach, which is more subtle.\n",
    "\n"
   ]
  },
  {
   "cell_type": "code",
   "execution_count": 33,
   "metadata": {},
   "outputs": [
    {
     "name": "stdout",
     "output_type": "stream",
     "text": [
      "6\n"
     ]
    }
   ],
   "source": [
    "def max_sub(nums):\n",
    "    max_all = float('-inf')\n",
    "    max_cur = 0 \n",
    "    for n in nums: \n",
    "        max_cur = max(max_cur + n, n)\n",
    "        max_all = max(max_all, max_cur) \n",
    "    return max_all\n",
    "#     pass \n",
    "\n",
    "nums = [-2,1,-3,4,-1,2,1,-5,4]\n",
    "# the contiguous subarray [4,-1,2,1] \n",
    "\n",
    "print(max_sub(nums))"
   ]
  },
  {
   "cell_type": "markdown",
   "metadata": {},
   "source": [
    "## Product of three \n",
    "[Leetcode source](https://leetcode.com/problems/maximum-product-of-three-numbers/description/)\n",
    "\n",
    "Given an integer array, find three numbers whose product is maximum and output the maximum product.\n",
    "\n",
    "Example 1:\n",
    "```\n",
    "Input: [1,2,3]\n",
    "Output: 6\n",
    "```\n",
    "Example 2:\n",
    "```\n",
    "Input: [1,2,3,4]\n",
    "Output: 24\n",
    "```\n",
    "\n",
    "Note:\n",
    "\n",
    "The length of the given array will be in range [3,104] and all elements are in the range [-1000, 1000].\n",
    "\n",
    "Multiplication of any three numbers in the input won't exceed the range of 32-bit signed integer.\n"
   ]
  },
  {
   "cell_type": "code",
   "execution_count": 66,
   "metadata": {},
   "outputs": [
    {
     "name": "stdout",
     "output_type": "stream",
     "text": [
      "\n",
      "Array: [1, 2, 3, 4, -2, -5]\n",
      "   Method 0, result = 40\n",
      "   Method 1, result = 40\n",
      "   Method 2, result = 40\n",
      "\n",
      "Array: [-1, -2, -4]\n",
      "   Method 0, result = -8\n",
      "   Method 1, result = -8\n",
      "   Method 2, result = -8\n",
      "\n",
      "Array: [1, 2, 3]\n",
      "   Method 0, result = 6\n",
      "   Method 1, result = 6\n",
      "   Method 2, result = 6\n"
     ]
    }
   ],
   "source": [
    "## sorting solution O(nlogn)\n",
    "def maximumProduct1(nums): \n",
    "    nums.sort()\n",
    "    return max(nums[-1]*nums[-2]*nums[-3], nums[-1]*nums[0]*nums[1])\n",
    "#     pass \n",
    "\n",
    "## heapq \n",
    "def maximumProduct2(nums):\n",
    "    ## getting 3 largest numbers or 2 smallest number is faster then sorting \n",
    "    # O(3n) \n",
    "    import heapq \n",
    "    mins = sorted(heapq.nsmallest(2, nums))\n",
    "    maxs = sorted(heapq.nlargest(3, nums))\n",
    "    return max(maxs[-1]*maxs[-2]*maxs[-3], maxs[-1]*mins[0]*mins[1])\n",
    "\n",
    "## no heapq, no sorting O(n)\n",
    "def maximumProduct3(nums):\n",
    "#     min_arr = sorted(nums[:2])\n",
    "#     max_arr = sorted(nums[:3])\n",
    "    inf = float('inf')\n",
    "    ninf = float('-inf')\n",
    "    max_arr = [ninf, ninf, ninf] \n",
    "    min_arr = [inf, inf]\n",
    "    for n in nums:\n",
    "        # update max_arr \n",
    "        if n > max_arr[2]:\n",
    "            max_arr = [max_arr[1], max_arr[2], n]\n",
    "        elif n > max_arr[1]:\n",
    "            vmax_arr = [max_arr[1], n, max_arr[2]]\n",
    "        elif n > max_arr[0]:\n",
    "            max_arr[0] = n \n",
    "        # update min_arr \n",
    "        if n < min_arr[0]:\n",
    "            min_arr = [n, min_arr[0]]\n",
    "        elif n < min_arr[1]:\n",
    "            min_arr = [min_arr[0], n]\n",
    "            \n",
    "    return max(min_arr[0]*min_arr[1]*max_arr[-1], max_arr[0]*max_arr[1]*max_arr[2])\n",
    "\n",
    "nums1 = [1, 2, 3, 4, -2, -5]\n",
    "nums2 = [-1, -2, -4]\n",
    "nums3 = [1, 2, 3]\n",
    "for nums in [nums1, nums2, nums3]:\n",
    "    print('\\nArray: ' + str(nums))\n",
    "    for i, f in enumerate([maximumProduct1, maximumProduct2, maximumProduct3]):\n",
    "            print('   Method ' + str(i) + ', result = ' + str(f(nums)))"
   ]
  },
  {
   "cell_type": "code",
   "execution_count": 67,
   "metadata": {},
   "outputs": [
    {
     "name": "stdout",
     "output_type": "stream",
     "text": [
      "time method 1\n",
      "10000000 loops, best of 3: 22.9 ns per loop\n",
      "time method 2\n",
      "10000000 loops, best of 3: 25.5 ns per loop\n",
      "time method 3\n",
      "10000000 loops, best of 3: 26.3 ns per loop\n"
     ]
    }
   ],
   "source": [
    "print('time method 1')\n",
    "%timeit maximumProduct1\n",
    "print('time method 2')\n",
    "%timeit maximumProduct2\n",
    "print('time method 3')\n",
    "%timeit maximumProduct3"
   ]
  },
  {
   "cell_type": "code",
   "execution_count": 42,
   "metadata": {},
   "outputs": [
    {
     "name": "stdout",
     "output_type": "stream",
     "text": [
      "Help on function nsmallest in module heapq:\n",
      "\n",
      "nsmallest(n, iterable, key=None)\n",
      "    Find the n smallest elements in a dataset.\n",
      "    \n",
      "    Equivalent to:  sorted(iterable, key=key)[:n]\n",
      "\n"
     ]
    }
   ],
   "source": [
    "import heapq \n",
    "help(heapq.nsmallest)"
   ]
  },
  {
   "cell_type": "markdown",
   "metadata": {},
   "source": [
    "##  Minimum path sum\n",
    "[Leetcode](https://leetcode.com/problems/minimum-path-sum/description/)\n",
    "\n",
    "Given a m x n grid filled with non-negative numbers, find a path from top left to bottom right which minimizes the sum of all numbers along its path.\n",
    "\n",
    "Note: You can only move either down or right at any point in time.\n",
    "\n",
    "Example 1:\n",
    "```\n",
    "[[1,3,1],\n",
    " [1,5,1],\n",
    " [4,2,1]]\n",
    "Given the above grid map, return 7. Because the path 1→3→1→1→1 minimizes the sum.\n",
    "```"
   ]
  },
  {
   "cell_type": "code",
   "execution_count": 14,
   "metadata": {},
   "outputs": [
    {
     "name": "stdout",
     "output_type": "stream",
     "text": [
      "7\n",
      "[0, inf, inf, inf]\n",
      "[1, 4, 5, inf]\n",
      "[2, 7, 6, inf]\n",
      "7\n"
     ]
    }
   ],
   "source": [
    "# space O(mn)\n",
    "def min_path_sum1(grid):\n",
    "    if not grid or not grid[0]: return 0 \n",
    "    m, n = len(grid), len(grid[0])\n",
    "    d = [[0]*n for _ in range(m)]\n",
    "    d[0][0] = grid[0][0]\n",
    "    for i in range(m):\n",
    "        for j in range(n):\n",
    "            if i+j: \n",
    "                d[i][j] = min(d[x][y] for (x, y) in [(i-1, j), (i, j-1)] if 0 <= x and \n",
    "                            0 <= y) + grid[i][j]\n",
    "    return d[-1][-1]\n",
    "\n",
    "# space O(n) (49ms)\n",
    "def min_path_sum2(grid):\n",
    "    if not grid or not grid[0]: return 0 \n",
    "    m, n = len(grid), len(grid[0])\n",
    "    d = [float('inf') for _ in range(n+1)]\n",
    "    d[0] = 0\n",
    "    for i in range(m):\n",
    "        for j in range(n): \n",
    "            d[j] = min(d[j-1], d[j]) + grid[i][j]\n",
    "    return d[-2]\n",
    "\n",
    "grid = [[1,3,1],\n",
    " [1,5,1],\n",
    " [4,2,1]] \n",
    "\n",
    "print(min_path_sum1(grid))\n",
    "print(min_path_sum2(grid))"
   ]
  },
  {
   "cell_type": "markdown",
   "metadata": {},
   "source": [
    "## Rotate matrix \n",
    "[source](https://leetcode.com/problems/rotate-image/description/)\n",
    "\n",
    "You are given an n x n 2D matrix representing an image.\n",
    "\n",
    "Rotate the image by 90 degrees (clockwise).\n",
    "\n",
    "Note:\n",
    "You have to rotate the image in-place, which means you have to modify the input 2D matrix directly. DO NOT allocate another 2D matrix and do the rotation.\n",
    "\n",
    "Example 1:\n",
    "```\n",
    "Given input matrix = \n",
    "[\n",
    "  [1,2,3],\n",
    "  [4,5,6],\n",
    "  [7,8,9]\n",
    "],\n",
    "\n",
    "rotate the input matrix in-place such that it becomes:\n",
    "[\n",
    "  [7,4,1],\n",
    "  [8,5,2],\n",
    "  [9,6,3]\n",
    "]\n",
    "```\n",
    "Example 2:\n",
    "```\n",
    "Given input matrix =\n",
    "[\n",
    "  [ 5, 1, 9,11],\n",
    "  [ 2, 4, 8,10],\n",
    "  [13, 3, 6, 7],\n",
    "  [15,14,12,16]\n",
    "], \n",
    "\n",
    "rotate the input matrix in-place such that it becomes:\n",
    "[\n",
    "  [15,13, 2, 5],\n",
    "  [14, 3, 4, 1],\n",
    "  [12, 6, 8, 9],\n",
    "  [16, 7,10,11]\n",
    "]\n",
    "```"
   ]
  },
  {
   "cell_type": "code",
   "execution_count": 25,
   "metadata": {},
   "outputs": [
    {
     "name": "stdout",
     "output_type": "stream",
     "text": [
      "[(7, 4, 1), (8, 5, 2), (9, 6, 3)]\n",
      "[[7, 4, 1], [8, 5, 2], [9, 6, 3]]\n",
      "[(15, 13, 2, 5), (14, 3, 4, 1), (12, 6, 8, 9), (16, 7, 10, 11)]\n",
      "[[15, 13, 2, 5], [14, 3, 4, 1], [12, 6, 8, 9], [16, 7, 10, 11]]\n",
      "[(7, 4, 1), (8, 5, 2), (9, 6, 3)]\n"
     ]
    }
   ],
   "source": [
    "# fast solution (little bit cheat)\n",
    "def rotate_n90_1(matrix):\n",
    "    return [a for a in zip(*matrix[::-1])]\n",
    "def rotate_90_1(matrix):\n",
    "    return [a for a in zip(*matrix)[::-1]]\n",
    "\n",
    "# truly in place \n",
    "\n",
    "def rotate_n90_2(matrix):\n",
    "    if not matrix: return [] \n",
    "    n = len(matrix) \n",
    "    for i in range(n//2):\n",
    "        for j in range(n - n//2):\n",
    "            matrix[j][~i], matrix[~i][~j], matrix[~j][i], matrix[i][j] = \\\n",
    "                matrix[i][j], matrix[j][~i], matrix[~i][~j], matrix[~j][i]\n",
    "    return matrix \n",
    "\n",
    "matrix1 = [\n",
    "  [1,2,3],\n",
    "  [4,5,6],\n",
    "  [7,8,9]\n",
    "]\n",
    "\n",
    "matrix2 = [\n",
    "  [ 5, 1, 9,11],\n",
    "  [ 2, 4, 8,10],\n",
    "  [13, 3, 6, 7],\n",
    "  [15,14,12,16]\n",
    "]\n",
    "\n",
    "print(rotate_n90_1(matrix1))\n",
    "print(rotate_n90_2(matrix1))\n",
    "\n",
    "print(rotate_n90_1(matrix2))\n",
    "print(rotate_n90_2(matrix2))\n",
    "\n",
    "print(rotate_90_1(rotate_n90_1(matrix1)))"
   ]
  },
  {
   "cell_type": "markdown",
   "metadata": {},
   "source": [
    "## Spiral matrix \n",
    "[Leetcode source](https://leetcode.com/problems/spiral-matrix/description/)\n",
    "\n",
    "Given a matrix of m x n elements (m rows, n columns), return all elements of the matrix in spiral order.\n",
    "\n",
    "For example,\n",
    "```\n",
    "Given the following matrix:\n",
    "\n",
    "[\n",
    " [ 1, 2, 3 ],\n",
    " [ 4, 5, 6 ],\n",
    " [ 7, 8, 9 ]\n",
    "]\n",
    "You should return [1,2,3,6,9,8,7,4,5].\n",
    "```"
   ]
  },
  {
   "cell_type": "code",
   "execution_count": 31,
   "metadata": {},
   "outputs": [
    {
     "name": "stdout",
     "output_type": "stream",
     "text": [
      "[1, 2, 3, 6, 9, 8, 7, 4, 5]\n",
      "[1, 2, 3, 6, 7, 4, 5, 5]\n",
      "[]\n",
      "[]\n",
      "[1, 2, 3]\n",
      "[1, 2, 3]\n",
      "[1, 2, 3]\n",
      "[1, 2, 3]\n"
     ]
    }
   ],
   "source": [
    "# first solution: first row + 90 degree rotated counter clockwise of the remaining \n",
    "def spiral(matrix):\n",
    "#     pass \n",
    "    if not matrix: return []\n",
    "    if len(matrix) == 1: return matrix[0]\n",
    "    remain = matrix[1:]\n",
    "    rotated_remain = [list(a) for a in zip(*remain)[::-1]]\n",
    "    return matrix[0] + spiral(rotated_remain)\n",
    "\n",
    "# 2nd solution \n",
    "def spiral2(matrix):\n",
    "    if not matrix or not matrix[0]: return [] \n",
    "    m, n = len(matrix), len(matrix[0])\n",
    "    res = []\n",
    "    u, d, l, r = 0, m-1, 0, n-1 \n",
    "    while u < d and l < r: \n",
    "        res.extend([matrix[u][i] for i in xrange(l, r)])\n",
    "        res.extend([matrix[i][r] for i in xrange(u, d)])\n",
    "        res.extend([matrix[d][i] for i in xrange(l, r, -1)])\n",
    "        res.extend([matrix[i][l] for i in xrange(d, u, -1)])\n",
    "        u, d, l, r = u+1, d-1, l+1, r-1 \n",
    "    if u == d: \n",
    "        res.extend([matrix[u][i] for i in xrange(l, r + 1)])\n",
    "    if l == r: \n",
    "        res.extend([matrix[i][l] for i in xrange(u, d + 1)])\n",
    "    return res \n",
    "    \n",
    "    \n",
    "matrix0 = [\n",
    " [ 1, 2, 3 ],\n",
    " [ 4, 5, 6 ],\n",
    " [ 7, 8, 9 ]\n",
    "]\n",
    "\n",
    "matrix1 = [[]]\n",
    "matrix2 = [[1, 2, 3]]\n",
    "matrix3 = [[1],[2], [3]]\n",
    "for matrix in [matrix0, matrix1, matrix2, matrix3]:\n",
    "    print(spiral(matrix))\n",
    "    print(spiral2(matrix))\n",
    "\n"
   ]
  },
  {
   "cell_type": "markdown",
   "metadata": {},
   "source": [
    "## And more\n",
    "\n",
    "[Leetcode Array](https://leetcode.com/tag/array/)"
   ]
  },
  {
   "cell_type": "code",
   "execution_count": null,
   "metadata": {
    "collapsed": true
   },
   "outputs": [],
   "source": []
  }
 ],
 "metadata": {
  "kernelspec": {
   "display_name": "Python 2",
   "language": "python",
   "name": "python2"
  },
  "language_info": {
   "codemirror_mode": {
    "name": "ipython",
    "version": 2
   },
   "file_extension": ".py",
   "mimetype": "text/x-python",
   "name": "python",
   "nbconvert_exporter": "python",
   "pygments_lexer": "ipython2",
   "version": "2.7.12"
  },
  "latex_envs": {
   "LaTeX_envs_menu_present": true,
   "autoclose": false,
   "autocomplete": true,
   "bibliofile": "biblio.bib",
   "cite_by": "apalike",
   "current_citInitial": 1,
   "eqLabelWithNumbers": true,
   "eqNumInitial": 1,
   "hotkeys": {
    "equation": "Ctrl-E",
    "itemize": "Ctrl-I"
   },
   "labels_anchors": false,
   "latex_user_defs": false,
   "report_style_numbering": false,
   "user_envs_cfg": false
  },
  "toc": {
   "nav_menu": {},
   "number_sections": true,
   "sideBar": true,
   "skip_h1_title": false,
   "title_cell": "Table of Contents",
   "title_sidebar": "Contents",
   "toc_cell": false,
   "toc_position": {},
   "toc_section_display": true,
   "toc_window_display": true
  }
 },
 "nbformat": 4,
 "nbformat_minor": 2
}
