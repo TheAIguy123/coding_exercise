{
 "cells": [
  {
   "cell_type": "code",
   "execution_count": 1,
   "metadata": {},
   "outputs": [],
   "source": [
    "from __future__ import print_function"
   ]
  },
  {
   "cell_type": "markdown",
   "metadata": {
    "collapsed": true
   },
   "source": [
    "# Arrays"
   ]
  },
  {
   "cell_type": "markdown",
   "metadata": {},
   "source": [
    "## Merge two sorted array\n",
    "[Leetcode source](https://leetcode.com/problems/merge-sorted-array/description/)\n",
    "\n",
    "Given two sorted integer arrays nums1 and nums2, merge nums2 into nums1 as one sorted array.\n",
    "\n",
    "Note:\n",
    "You may assume that nums1 has enough space (size that is greater or equal to m + n) to hold additional elements from nums2. The number of elements initialized in nums1 and nums2 are m and n respectively.\n",
    "\n",
    "\n"
   ]
  },
  {
   "cell_type": "code",
   "execution_count": 2,
   "metadata": {},
   "outputs": [
    {
     "name": "stdout",
     "output_type": "stream",
     "text": [
      "[1, 2, 3, 4, 5, 7, 8, 9]\n"
     ]
    }
   ],
   "source": [
    "def merge(num1, m, num2, n):\n",
    "    \"\"\"\n",
    "    num1 have at least m+ n spaces, but consider its first m elements \n",
    "    \"\"\"\n",
    "    # idea: from the end \n",
    "    while m and n: \n",
    "        if num1[m-1] > num2[n-1]: \n",
    "            num1[m+n-1] = num1[m-1]\n",
    "            m -= 1\n",
    "        else: \n",
    "            num1[m+n-1] = num2[n-1]\n",
    "            n -= 1\n",
    "    if n: num1[:n] = num2[:n]\n",
    "\n",
    "\n",
    "    \n",
    "    \n",
    "num1 = [1, 4, 7, 8, None, None, None, None]\n",
    "num2 = [2, 3, 5, 9, None]\n",
    "\n",
    "merge(num1, 4, num2, 4)\n",
    "print(num1)\n"
   ]
  },
  {
   "cell_type": "markdown",
   "metadata": {},
   "source": [
    "## Two sum \n",
    "\n",
    "[Leetcode source](https://leetcode.com/problems/two-sum/description/)\n",
    "\n",
    "Given an array of integers, return indices of the two numbers such that they add up to a specific target.\n",
    "\n",
    "You may assume that each input would have exactly one solution, and you may not use the same element twice.\n",
    "\n",
    "Example\n",
    "```\n",
    "Given nums = [2, 7, 11, 15], target = 9,\n",
    "\n",
    "Because nums[0] + nums[1] = 2 + 7 = 9,\n",
    "return [0, 1].\n",
    "```"
   ]
  },
  {
   "cell_type": "code",
   "execution_count": 3,
   "metadata": {},
   "outputs": [
    {
     "name": "stdout",
     "output_type": "stream",
     "text": [
      "nums = [2, 7, 11, 15], target =  9 , results =  [0, 1]\n",
      "nums = [2, 7, 11, 15], target =  22 , results =  [1, 3]\n"
     ]
    }
   ],
   "source": [
    "def two_sum(nums, target):\n",
    "    # idea: using dictionary (hash table)\n",
    "    d = {} \n",
    "    for i, n in enumerate(nums): \n",
    "        if target - n in d: \n",
    "            return [d[target-n], i] \n",
    "        d[n] = i \n",
    "            \n",
    "        \n",
    "    \n",
    "nums, target = [2, 7, 11, 15], 9 \n",
    "print('nums = '+ str(nums)+ ', target = ', str(target), ', results = ', \n",
    "     str(two_sum(nums, target)))\n",
    "\n",
    "\n",
    "nums, target = [2, 7, 11, 15], 22\n",
    "print('nums = '+ str(nums)+ ', target = ', str(target), ', results = ', \n",
    "     str(two_sum(nums, target)))\n"
   ]
  },
  {
   "cell_type": "markdown",
   "metadata": {},
   "source": [
    "## Maximum subarray\n",
    "\n",
    "[Leetcode source](https://leetcode.com/problems/maximum-subarray/description/)\n",
    "\n",
    "Find the contiguous subarray within an array (containing at least one number) which has the largest sum.\n",
    "\n",
    "For example, given the array [-2,1,-3,4,-1,2,1,-5,4],\n",
    "the contiguous subarray [4,-1,2,1] has the largest sum = 6.\n",
    "\n",
    "click to show more practice.\n",
    "\n",
    "More practice:\n",
    "If you have figured out the O(n) solution, try coding another solution using the divide and conquer approach, which is more subtle.\n",
    "\n"
   ]
  },
  {
   "cell_type": "code",
   "execution_count": 4,
   "metadata": {},
   "outputs": [
    {
     "name": "stdout",
     "output_type": "stream",
     "text": [
      "6\n"
     ]
    }
   ],
   "source": [
    "def max_sub(nums):\n",
    "    max_all = float('-inf')\n",
    "    max_cur = 0 \n",
    "    for n in nums: \n",
    "        max_cur = max(max_cur + n, n)\n",
    "        max_all = max(max_all, max_cur) \n",
    "    return max_all\n",
    "#     pass \n",
    "\n",
    "nums = [-2,1,-3,4,-1,2,1,-5,4]\n",
    "# the contiguous subarray [4,-1,2,1] \n",
    "\n",
    "print(max_sub(nums))"
   ]
  },
  {
   "cell_type": "markdown",
   "metadata": {},
   "source": [
    "## Product of three \n",
    "[Leetcode source](https://leetcode.com/problems/maximum-product-of-three-numbers/description/)\n",
    "\n",
    "Given an integer array, find three numbers whose product is maximum and output the maximum product.\n",
    "\n",
    "Example 1:\n",
    "```\n",
    "Input: [1,2,3]\n",
    "Output: 6\n",
    "```\n",
    "Example 2:\n",
    "```\n",
    "Input: [1,2,3,4]\n",
    "Output: 24\n",
    "```\n",
    "\n",
    "Note:\n",
    "\n",
    "The length of the given array will be in range [3,104] and all elements are in the range [-1000, 1000].\n",
    "\n",
    "Multiplication of any three numbers in the input won't exceed the range of 32-bit signed integer.\n"
   ]
  },
  {
   "cell_type": "code",
   "execution_count": 5,
   "metadata": {},
   "outputs": [
    {
     "name": "stdout",
     "output_type": "stream",
     "text": [
      "\n",
      "Array: [1, 2, 3, 4, -2, -5]\n",
      "   Method 0, result = 40\n",
      "   Method 1, result = 40\n",
      "   Method 2, result = 40\n",
      "\n",
      "Array: [-1, -2, -4]\n",
      "   Method 0, result = -8\n",
      "   Method 1, result = -8\n",
      "   Method 2, result = -8\n",
      "\n",
      "Array: [1, 2, 3]\n",
      "   Method 0, result = 6\n",
      "   Method 1, result = 6\n",
      "   Method 2, result = 6\n"
     ]
    }
   ],
   "source": [
    "## sorting solution O(nlogn)\n",
    "def maximumProduct1(nums): \n",
    "    nums.sort()\n",
    "    return max(nums[-1]*nums[-2]*nums[-3], nums[-1]*nums[0]*nums[1])\n",
    "#     pass \n",
    "\n",
    "## heapq \n",
    "def maximumProduct2(nums):\n",
    "    ## getting 3 largest numbers or 2 smallest number is faster then sorting \n",
    "    # O(3n) \n",
    "    import heapq \n",
    "    mins = sorted(heapq.nsmallest(2, nums))\n",
    "    maxs = sorted(heapq.nlargest(3, nums))\n",
    "    return max(maxs[-1]*maxs[-2]*maxs[-3], maxs[-1]*mins[0]*mins[1])\n",
    "\n",
    "## no heapq, no sorting O(n)\n",
    "def maximumProduct3(nums):\n",
    "#     min_arr = sorted(nums[:2])\n",
    "#     max_arr = sorted(nums[:3])\n",
    "    inf = float('inf')\n",
    "    ninf = float('-inf')\n",
    "    max_arr = [ninf, ninf, ninf] \n",
    "    min_arr = [inf, inf]\n",
    "    for n in nums:\n",
    "        # update max_arr \n",
    "        if n > max_arr[2]:\n",
    "            max_arr = [max_arr[1], max_arr[2], n]\n",
    "        elif n > max_arr[1]:\n",
    "            vmax_arr = [max_arr[1], n, max_arr[2]]\n",
    "        elif n > max_arr[0]:\n",
    "            max_arr[0] = n \n",
    "        # update min_arr \n",
    "        if n < min_arr[0]:\n",
    "            min_arr = [n, min_arr[0]]\n",
    "        elif n < min_arr[1]:\n",
    "            min_arr = [min_arr[0], n]\n",
    "            \n",
    "    return max(min_arr[0]*min_arr[1]*max_arr[-1], max_arr[0]*max_arr[1]*max_arr[2])\n",
    "\n",
    "nums1 = [1, 2, 3, 4, -2, -5]\n",
    "nums2 = [-1, -2, -4]\n",
    "nums3 = [1, 2, 3]\n",
    "for nums in [nums1, nums2, nums3]:\n",
    "    print('\\nArray: ' + str(nums))\n",
    "    for i, f in enumerate([maximumProduct1, maximumProduct2, maximumProduct3]):\n",
    "            print('   Method ' + str(i) + ', result = ' + str(f(nums)))"
   ]
  },
  {
   "cell_type": "code",
   "execution_count": 6,
   "metadata": {},
   "outputs": [
    {
     "name": "stdout",
     "output_type": "stream",
     "text": [
      "time method 1\n",
      "10000000 loops, best of 3: 23 ns per loop\n",
      "time method 2\n",
      "10000000 loops, best of 3: 23 ns per loop\n",
      "time method 3\n",
      "10000000 loops, best of 3: 22.1 ns per loop\n"
     ]
    }
   ],
   "source": [
    "print('time method 1')\n",
    "%timeit maximumProduct1\n",
    "print('time method 2')\n",
    "%timeit maximumProduct2\n",
    "print('time method 3')\n",
    "%timeit maximumProduct3"
   ]
  },
  {
   "cell_type": "code",
   "execution_count": 7,
   "metadata": {},
   "outputs": [
    {
     "name": "stdout",
     "output_type": "stream",
     "text": [
      "Help on function nsmallest in module heapq:\n",
      "\n",
      "nsmallest(n, iterable, key=None)\n",
      "    Find the n smallest elements in a dataset.\n",
      "    \n",
      "    Equivalent to:  sorted(iterable, key=key)[:n]\n",
      "\n"
     ]
    }
   ],
   "source": [
    "import heapq \n",
    "help(heapq.nsmallest)"
   ]
  },
  {
   "cell_type": "markdown",
   "metadata": {},
   "source": [
    "##  Minimum path sum\n",
    "[Leetcode](https://leetcode.com/problems/minimum-path-sum/description/)\n",
    "\n",
    "Given a m x n grid filled with non-negative numbers, find a path from top left to bottom right which minimizes the sum of all numbers along its path.\n",
    "\n",
    "Note: You can only move either down or right at any point in time.\n",
    "\n",
    "Example 1:\n",
    "[[1,3,1],\n",
    " [1,5,1],\n",
    " [4,2,1]]\n",
    "Given the above grid map, return 7. Because the path 1→3→1→1→1 minimizes the sum.\n"
   ]
  },
  {
   "cell_type": "code",
   "execution_count": null,
   "metadata": {},
   "outputs": [],
   "source": [
    "# dynamic space O(mn)\n",
    "def min_path_sum1(gid):\n",
    "    "
   ]
  },
  {
   "cell_type": "markdown",
   "metadata": {},
   "source": [
    "## And more\n",
    "\n",
    "[Leetcode Array](https://leetcode.com/tag/array/)"
   ]
  },
  {
   "cell_type": "code",
   "execution_count": null,
   "metadata": {},
   "outputs": [],
   "source": []
  },
  {
   "cell_type": "code",
   "execution_count": null,
   "metadata": {},
   "outputs": [],
   "source": []
  }
 ],
 "metadata": {
  "kernelspec": {
   "display_name": "Python 2",
   "language": "python",
   "name": "python2"
  },
  "language_info": {
   "codemirror_mode": {
    "name": "ipython",
    "version": 2
   },
   "file_extension": ".py",
   "mimetype": "text/x-python",
   "name": "python",
   "nbconvert_exporter": "python",
   "pygments_lexer": "ipython2",
   "version": "2.7.12"
  },
  "latex_envs": {
   "LaTeX_envs_menu_present": true,
   "autoclose": false,
   "autocomplete": true,
   "bibliofile": "biblio.bib",
   "cite_by": "apalike",
   "current_citInitial": 1,
   "eqLabelWithNumbers": true,
   "eqNumInitial": 1,
   "hotkeys": {
    "equation": "Ctrl-E",
    "itemize": "Ctrl-I"
   },
   "labels_anchors": false,
   "latex_user_defs": false,
   "report_style_numbering": false,
   "user_envs_cfg": false
  },
  "toc": {
   "nav_menu": {},
   "number_sections": true,
   "sideBar": true,
   "skip_h1_title": false,
   "title_cell": "Table of Contents",
   "title_sidebar": "Contents",
   "toc_cell": false,
   "toc_position": {},
   "toc_section_display": true,
   "toc_window_display": true
  }
 },
 "nbformat": 4,
 "nbformat_minor": 2
}
