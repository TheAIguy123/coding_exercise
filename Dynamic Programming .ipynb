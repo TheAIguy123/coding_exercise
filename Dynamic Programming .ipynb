{
 "cells": [
  {
   "cell_type": "code",
   "execution_count": 1,
   "metadata": {
    "collapsed": true
   },
   "outputs": [],
   "source": [
    "from __future__ import print_function "
   ]
  },
  {
   "cell_type": "markdown",
   "metadata": {},
   "source": [
    "# Dynamic Programming "
   ]
  },
  {
   "cell_type": "markdown",
   "metadata": {},
   "source": [
    "## House Robber\n",
    "[Source](https://leetcode.com/problems/house-robber/description/) \n",
    "\n",
    "You are a professional robber planning to rob houses along a street. Each house has a certain amount of money stashed, the only constraint stopping you from robbing each of them is that adjacent houses have security system connected and it will automatically contact the police if two adjacent houses were broken into on the same night.\n",
    "\n",
    "Given a list of non-negative integers representing the amount of money of each house, determine the maximum amount of money you can rob tonight without alerting the police.\n"
   ]
  },
  {
   "cell_type": "code",
   "execution_count": 3,
   "metadata": {},
   "outputs": [
    {
     "name": "stdout",
     "output_type": "stream",
     "text": [
      "124\n"
     ]
    }
   ],
   "source": [
    "def rob(nums):\n",
    "    # 32ms, 40% \n",
    "    last = last2 = 0 \n",
    "    for n in nums: \n",
    "        last, last2 = max(last, last2 + n), last \n",
    "    return last \n",
    "        \n",
    "nums = [1, 4, 5, 3, 7, 9, 10, 100, 101] \n",
    "print(rob(nums)) # 124"
   ]
  },
  {
   "cell_type": "markdown",
   "metadata": {
    "collapsed": true
   },
   "source": [
    "## House Robber II \n",
    "\n",
    "What if houses are arranged in a circle? "
   ]
  },
  {
   "cell_type": "code",
   "execution_count": 4,
   "metadata": {},
   "outputs": [
    {
     "name": "stdout",
     "output_type": "stream",
     "text": [
      "(25, 23, 22)\n",
      "25\n"
     ]
    }
   ],
   "source": [
    "\"\"\"\n",
    "Idea: \n",
    "Three cases: \n",
    "1. First house is NOT robbed \n",
    "2. Last house is NOT robbed \n",
    "3. Both first and last are NOT robbed \n",
    "\n",
    "each case can be seen as house robber I if we remove the unrobbed houses. \n",
    "E.g: \n",
    "1. rob(nums[1:])\n",
    "2. rob(nums[:-1])\n",
    "3. rob(nums[1:-1])\n",
    "\"\"\"\n",
    "def rob1(nums): \n",
    "    last = last2 = 0 \n",
    "    # last = rob1(nums[:i]): max result to the last \n",
    "    # last2 = rob2(nums[:i-1]): max result to the second to last \n",
    "    for n in nums: \n",
    "        last, last2 = max(last2 + n, last), last \n",
    "    return last\n",
    "\n",
    "def rob2(nums):\n",
    "    return max(rob1(nums[1:]), rob1(nums[:-1]), rob1(nums[1:-1]))\n",
    "    \n",
    "nums = [1, 4, 5, 3, 7, 9, 10, 4, 3] \n",
    "print(rob2(nums)) # 124"
   ]
  },
  {
   "cell_type": "code",
   "execution_count": null,
   "metadata": {
    "collapsed": true
   },
   "outputs": [],
   "source": []
  }
 ],
 "metadata": {
  "kernelspec": {
   "display_name": "Python 2",
   "language": "python",
   "name": "python2"
  },
  "language_info": {
   "codemirror_mode": {
    "name": "ipython",
    "version": 2
   },
   "file_extension": ".py",
   "mimetype": "text/x-python",
   "name": "python",
   "nbconvert_exporter": "python",
   "pygments_lexer": "ipython2",
   "version": "2.7.13"
  },
  "latex_envs": {
   "LaTeX_envs_menu_present": true,
   "autoclose": false,
   "autocomplete": true,
   "bibliofile": "biblio.bib",
   "cite_by": "apalike",
   "current_citInitial": 1,
   "eqLabelWithNumbers": true,
   "eqNumInitial": 1,
   "hotkeys": {
    "equation": "Ctrl-E",
    "itemize": "Ctrl-I"
   },
   "labels_anchors": false,
   "latex_user_defs": false,
   "report_style_numbering": false,
   "user_envs_cfg": false
  },
  "toc": {
   "nav_menu": {},
   "number_sections": true,
   "sideBar": true,
   "skip_h1_title": false,
   "title_cell": "Table of Contents",
   "title_sidebar": "Contents",
   "toc_cell": false,
   "toc_position": {},
   "toc_section_display": true,
   "toc_window_display": true
  }
 },
 "nbformat": 4,
 "nbformat_minor": 2
}
